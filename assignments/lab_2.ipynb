{
 "cells": [
  {
   "cell_type": "code",
   "execution_count": 41,
   "metadata": {
    "scrolled": true
   },
   "outputs": [],
   "source": [
    "def addn(v,w):\n",
    "  return [v[i] + w[i] for i in range(len(v))]\n",
    "def subn(v,w):\n",
    "  return [v[i] - w[i] for i in range(len(v))]"
   ]
  },
  {
   "cell_type": "code",
   "execution_count": 42,
   "metadata": {},
   "outputs": [],
   "source": [
    "def scalar_vector_mult(v , alpha):\n",
    "  return [alpha * x for x in v]"
   ]
  },
  {
   "cell_type": "markdown",
   "metadata": {},
   "source": [
    "**Problem 1**: For vectors v = [−1, 3] and u = [0, 4], find the vectors v + u, v − u, and 3v − 2u."
   ]
  },
  {
   "cell_type": "code",
   "execution_count": 43,
   "metadata": {},
   "outputs": [],
   "source": [
    "v = [-1, 3]\n",
    "u = [0, 4]\n",
    "assert addn(u, v) == [-1, 7]\n",
    "assert subn(v, u) == [ -1, -1]\n",
    "assert subn(scalar_vector_mult(v , 3), scalar_vector_mult(u , 2)) == [-3 , 1]"
   ]
  },
  {
   "cell_type": "markdown",
   "metadata": {},
   "source": [
    "**Problem 2**: Given the vectors v = [2, −1, 5] and u = [−1, 1, 1], find the vectors v + u, v − u, 2v − u,\n",
    "and v + 2u."
   ]
  },
  {
   "cell_type": "code",
   "execution_count": 44,
   "metadata": {},
   "outputs": [],
   "source": [
    "v = [2, -1, 5] \n",
    "u = [-1, 1, 1]\n",
    "assert addn(v, u) == [1, 0, 6]\n",
    "assert subn(v, u) == [3, -2, 4]\n",
    "assert subn((scalar_vector_mult(v,2)),  u) == [5, -3, 9]\n",
    "assert addn((scalar_vector_mult(u,2)), v) == [0, 1, 7]"
   ]
  },
  {
   "cell_type": "markdown",
   "metadata": {},
   "source": [
    "**Problem 3**: For the vectors v = [0, one,  one] and u = [one ,one , one] over GF(2), and v+u and v+u+u."
   ]
  },
  {
   "cell_type": "markdown",
   "metadata": {},
   "source": [
    "v = [0, one, one]\n",
    "u = [one ,one , one]\n",
    "v_plus_u = [one, 0, 0]\n",
    "v_plus_u_plus_u = [0, one, one]"
   ]
  },
  {
   "cell_type": "markdown",
   "metadata": {},
   "source": [
    "**Problem 4**: Here are six 7-vectors over GF(2):\n",
    "a = 1100000 d = 0001100\n",
    "b = 0110000 e = 0000110\n",
    "c = 0011000 f = 0000011\n",
    "For each of the following vectors u, and a subset of the above vectors whose sum is u, or report that no\n",
    "such subset exists. You should be able to do this without the help of a computer.\n",
    "1. u = 0010010\n",
    "2. u = 0100010\n",
    "Problem"
   ]
  },
  {
   "cell_type": "markdown",
   "metadata": {},
   "source": [
    "for u =  0010010 and u =  0100010, the sets whose elements' sum is u\n",
    "subset_a = {0001100,\n",
    "            0000110} \n",
    "\n",
    "for u =  0100010, there are no sets whose elements' sum is u"
   ]
  },
  {
   "cell_type": "markdown",
   "metadata": {},
   "source": [
    "**Problem 5**: Here are six 7-vectors over GF(2):\n",
    "a = 1110000 d = 0001110\n",
    "b = 0111000 e = 0000111\n",
    "c = 0011100 f = 0000011\n",
    "For each of the following vectors u, \f",
    "nd a subset of the above vectors whose sum is u, or report that no\n",
    "such subset exists.\n",
    "1. u = 0010010\n",
    "2. u = 0100010"
   ]
  },
  {
   "cell_type": "markdown",
   "metadata": {},
   "source": [
    "for u =  0010010 and u =  0100010, the sets whose elements' sum is u\n",
    "subset_a = {0001100,\n",
    "            0000110} \n",
    "\n",
    "for u =  0100010, the sets whose elements' sum is u\n",
    "subset_a = {0011100,\n",
    "            0000110} "
   ]
  },
  {
   "cell_type": "markdown",
   "metadata": {},
   "source": [
    "**Problem 6**:  Find a vector\n",
    "x = [x1; x2; x3; x4] over GF(2) satisfying the following linear equations:\n",
    "1100 \u0001 x = 1\n",
    "1010 \u0001 x = 1\n",
    "1111 \u0001 x = 1\n",
    "Verify for yourself that x + 1111 also satisfies the equations."
   ]
  },
  {
   "cell_type": "markdown",
   "metadata": {},
   "source": [
    "x = 1000 "
   ]
  },
  {
   "cell_type": "markdown",
   "metadata": {},
   "source": [
    "**Problem 7**: Consider the equations\n",
    "2x0 + 3x1 - 4x2 + x3 = 10<br>\n",
    "x0 - 5x1 + 2x2 + 0x3 = 35<br>\n",
    "4x0 + x1 - x2 - x3 = 8<br>\n",
    "Your job is not to solve these equations but to formulate them using dot-product. In particular, come up\n",
    "with three vectors v1, v2, and v3 represented as lists so that the above equations are equivalent to\n",
    "v1 \u0001 x = 10\n",
    "v2 \u0001 x = 35\n",
    "v3 \u0001 x = 8\n",
    "where x is a 4-vector over R."
   ]
  },
  {
   "cell_type": "code",
   "execution_count": 45,
   "metadata": {},
   "outputs": [],
   "source": [
    "v1 = [2,3,-4, 1]\n",
    "v2 = [1, -5, 2, 0]\n",
    "v2 = [4, 1, -1, -1]"
   ]
  },
  {
   "cell_type": "markdown",
   "metadata": {},
   "source": [
    "**Problem 8**: For each of the following pairs of vectors u and v over R, evaluate the expression u * v:\n",
    "(a) u = [1; 0]; v = [5; 4321]\n",
    "(b) u = [0; 1]; v = [12345; 6]\n",
    "(c) u = [-1; 3]; v = [5; 7]\n",
    "(d) u = [-(2^(1/2))/2 , (2^(1/2))/2] , v = [(2^(1/2))/2 , -(2^(1/2))/2]\n"
   ]
  },
  {
   "cell_type": "markdown",
   "metadata": {},
   "source": [
    "a) 5\n",
    "b) 6\n",
    "c) 16\n",
    "d) -1"
   ]
  }
 ],
 "metadata": {
  "kernelspec": {
   "display_name": "Python 3",
   "language": "python",
   "name": "python3"
  },
  "language_info": {
   "codemirror_mode": {
    "name": "ipython",
    "version": 3
   },
   "file_extension": ".py",
   "mimetype": "text/x-python",
   "name": "python",
   "nbconvert_exporter": "python",
   "pygments_lexer": "ipython3",
   "version": "3.7.7"
  }
 },
 "nbformat": 4,
 "nbformat_minor": 4
}
