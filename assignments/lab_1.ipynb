{
  "nbformat": 4,
  "nbformat_minor": 0,
  "metadata": {
    "colab": {
      "name": "lab_1",
      "provenance": [],
      "collapsed_sections": []
    },
    "kernelspec": {
      "name": "python3",
      "display_name": "Python 3"
    }
  },
  "cells": [
    {
      "cell_type": "markdown",
      "metadata": {
        "id": "c1OaL-sBA2TM",
        "colab_type": "text"
      },
      "source": [
        "Task 1: Use Python to find the number of minutes in a week."
      ]
    },
    {
      "cell_type": "code",
      "metadata": {
        "id": "Xfqms21fARpj",
        "colab_type": "code",
        "colab": {
          "base_uri": "https://localhost:8080/",
          "height": 35
        },
        "outputId": "271550e2-367f-4223-ebbf-913675759d0e"
      },
      "source": [
        "week_mins = 7 * 24 * 60\n",
        "print(f\"minutes in a week {week_mins}\") "
      ],
      "execution_count": null,
      "outputs": [
        {
          "output_type": "stream",
          "text": [
            "minutes in a week 10080\n"
          ],
          "name": "stdout"
        }
      ]
    },
    {
      "cell_type": "markdown",
      "metadata": {
        "id": "owZTQRICBUy4",
        "colab_type": "text"
      },
      "source": [
        "Task 2: Use Python to find the remainder of 2304811 divided by 47 without using the modulo operator %.\n",
        "(Hint: Use //.)"
      ]
    },
    {
      "cell_type": "code",
      "metadata": {
        "id": "ShDvc99HBUNq",
        "colab_type": "code",
        "colab": {
          "base_uri": "https://localhost:8080/",
          "height": 35
        },
        "outputId": "5e3e35c7-fc8f-40bc-e2c6-70b704d6a0c4"
      },
      "source": [
        "remainder = 2304811 - ( (2304811 // 47) * 47)\n",
        "print(f\"remainder of 2304811 divided by 47 {remainder}\")"
      ],
      "execution_count": 4,
      "outputs": [
        {
          "output_type": "stream",
          "text": [
            "remainder of 2304811 divided by 47 25\n"
          ],
          "name": "stdout"
        }
      ]
    },
    {
      "cell_type": "markdown",
      "metadata": {
        "id": "HeEg7vpUDeQd",
        "colab_type": "text"
      },
      "source": [
        "Task 3: Enter a Boolean expression to test whether the sum of 673 and 909 is divisible by 3."
      ]
    },
    {
      "cell_type": "code",
      "metadata": {
        "id": "IL4MAYkZDlhA",
        "colab_type": "code",
        "colab": {
          "base_uri": "https://localhost:8080/",
          "height": 35
        },
        "outputId": "c08ab3c8-a3a4-453d-a1dd-2b2e2928d065"
      },
      "source": [
        "isSumDivisible = ( (673 + 909) % 3 ) == 0\n",
        "print(f\" whether the sum of 673 and 909 is divisible by 3 : {isSumDivisible}\") "
      ],
      "execution_count": 5,
      "outputs": [
        {
          "output_type": "stream",
          "text": [
            " whether the sum of 673 and 909 is divisible by 3 : False\n"
          ],
          "name": "stdout"
        }
      ]
    },
    {
      "cell_type": "markdown",
      "metadata": {
        "id": "QZzXyNN4ENMg",
        "colab_type": "text"
      },
      "source": [
        "Task 4: Assign the value -9 to x and 1/2 to y. Predict the value of the following expression, then enter it\n",
        "to check your prediction:\n",
        "2**(y+1/2) if x+10<0 else 2**(y-1/2)"
      ]
    },
    {
      "cell_type": "code",
      "metadata": {
        "id": "YXOV3GImEPgk",
        "colab_type": "code",
        "colab": {
          "base_uri": "https://localhost:8080/",
          "height": 35
        },
        "outputId": "2cbd55ce-b577-4819-92bf-b2051e46d1a6"
      },
      "source": [
        "x = -9\n",
        "y = 1/2\n",
        "predict = 2 ** (y + 1/2) if x + 10 <0 else 2 ** (y -1/2)\n",
        "print(f\"prediction of the expression {predict}\")"
      ],
      "execution_count": 6,
      "outputs": [
        {
          "output_type": "stream",
          "text": [
            "prediction of the expression 1.0\n"
          ],
          "name": "stdout"
        }
      ]
    },
    {
      "cell_type": "markdown",
      "metadata": {
        "id": "LaqPONcbFCax",
        "colab_type": "text"
      },
      "source": [
        "Task 5: Write a comprehension over {1, 2, 3, 4, 5} whose value is the set consisting of the squares of the\n",
        "first five positive integer"
      ]
    },
    {
      "cell_type": "code",
      "metadata": {
        "id": "moL6lBzGFIvy",
        "colab_type": "code",
        "colab": {
          "base_uri": "https://localhost:8080/",
          "height": 35
        },
        "outputId": "d5089f51-bbe6-46ed-a9f0-43c87f911b96"
      },
      "source": [
        "result_set = { x**2 for x in {1, 2, 3, 4, 5} if x > 0}\n",
        "print(f\"resulting set {result_set}\")"
      ],
      "execution_count": 7,
      "outputs": [
        {
          "output_type": "stream",
          "text": [
            "resulting set {1, 4, 9, 16, 25}\n"
          ],
          "name": "stdout"
        }
      ]
    },
    {
      "cell_type": "markdown",
      "metadata": {
        "id": "gATSxWq5F3VE",
        "colab_type": "text"
      },
      "source": [
        "Task 6: Write a comprehension over {0, 1, 2, 3, 4} whose value is the set consisting of the first five powers\n",
        "of two, starting with 2\n",
        "0"
      ]
    },
    {
      "cell_type": "code",
      "metadata": {
        "id": "q0xt3g_rF64q",
        "colab_type": "code",
        "colab": {
          "base_uri": "https://localhost:8080/",
          "height": 35
        },
        "outputId": "9ce799f0-4df0-4b3c-ed2a-2855cf1e03f8"
      },
      "source": [
        "result_set = { 2 ** x for x in {0, 1, 2, 3, 4}}\n",
        "print(f\"resulting set {result_set}\")"
      ],
      "execution_count": 8,
      "outputs": [
        {
          "output_type": "stream",
          "text": [
            "resulting set {1, 2, 4, 8, 16}\n"
          ],
          "name": "stdout"
        }
      ]
    },
    {
      "cell_type": "markdown",
      "metadata": {
        "id": "Y-hIuq8rIN3P",
        "colab_type": "text"
      },
      "source": [
        "Task 7 The value of the previous comprehension,\n",
        "{x*y for x in {1,2,3} for y in {2,3,4}}\n",
        "is a seven-element set. Replace {1,2,3} and {2,3,4} with two other three-element sets so that the value\n",
        "becomes a nine-element set."
      ]
    },
    {
      "cell_type": "code",
      "metadata": {
        "id": "k_nce9MwH8fr",
        "colab_type": "code",
        "colab": {
          "base_uri": "https://localhost:8080/",
          "height": 35
        },
        "outputId": "75ed4d86-3b74-4185-c76e-8f2ab0d8d266"
      },
      "source": [
        "multi_set = {x*y for x in {1,2,4} for y in {2,3,5}} \n",
        "print(f\"resulting set {multi_set}\")"
      ],
      "execution_count": 9,
      "outputs": [
        {
          "output_type": "stream",
          "text": [
            "resulting set {2, 3, 4, 5, 6, 8, 10, 12, 20}\n"
          ],
          "name": "stdout"
        }
      ]
    },
    {
      "cell_type": "markdown",
      "metadata": {
        "id": "FLeKiO3bI4t2",
        "colab_type": "text"
      },
      "source": [
        "Task 8: Replace {1,2,3} and {2,3,4} in the previous comprehension with two disjoint (i.e. non-overlapping)\n",
        "three-element sets so that the value becomes a five-element set."
      ]
    },
    {
      "cell_type": "code",
      "metadata": {
        "id": "PTQ4IAuXJArt",
        "colab_type": "code",
        "colab": {
          "base_uri": "https://localhost:8080/",
          "height": 35
        },
        "outputId": "a8e0a1bc-81a7-44d2-c277-2e833fde0a90"
      },
      "source": [
        "non_overlap_multi_set = {x*y for x in {1,2,0} for y in {0, 5, 6}} \n",
        "print(f\"resulting set {non_overlap_multi_set}\")"
      ],
      "execution_count": 11,
      "outputs": [
        {
          "output_type": "stream",
          "text": [
            "resulting set {0, 5, 6, 10, 12}\n"
          ],
          "name": "stdout"
        }
      ]
    }
  ]
}