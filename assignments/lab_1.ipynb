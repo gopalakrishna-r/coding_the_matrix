{
  "nbformat": 4,
  "nbformat_minor": 0,
  "metadata": {
    "colab": {
      "name": "lab_1",
      "provenance": [],
      "collapsed_sections": []
    },
    "kernelspec": {
      "name": "python3",
      "display_name": "Python 3"
    }
  },
  "cells": [
    {
      "cell_type": "markdown",
      "metadata": {
        "id": "c1OaL-sBA2TM",
        "colab_type": "text"
      },
      "source": [
        "Task 1: Use Python to find the number of minutes in a week."
      ]
    },
    {
      "cell_type": "code",
      "metadata": {
        "id": "Xfqms21fARpj",
        "colab_type": "code",
        "colab": {
          "base_uri": "https://localhost:8080/",
          "height": 35
        },
        "outputId": "e06a3d2b-157d-45c1-9199-f14c32dd51c4"
      },
      "source": [
        "week_mins = 7 * 24 * 60\n",
        "print(f\"minutes in a week {week_mins}\") "
      ],
      "execution_count": null,
      "outputs": [
        {
          "output_type": "stream",
          "text": [
            "minutes in a week 10080\n"
          ],
          "name": "stdout"
        }
      ]
    },
    {
      "cell_type": "markdown",
      "metadata": {
        "id": "owZTQRICBUy4",
        "colab_type": "text"
      },
      "source": [
        "Task 2: Use Python to find the remainder of 2304811 divided by 47 without using the modulo operator %.\n",
        "(Hint: Use //.)"
      ]
    },
    {
      "cell_type": "code",
      "metadata": {
        "id": "ShDvc99HBUNq",
        "colab_type": "code",
        "colab": {
          "base_uri": "https://localhost:8080/",
          "height": 35
        },
        "outputId": "76349945-2777-4c9c-e990-ddc0183a7801"
      },
      "source": [
        "remainder = 2304811 - ( (2304811 // 47) * 47)\n",
        "print(f\"remainder of 2304811 divided by 47 {remainder}\")"
      ],
      "execution_count": null,
      "outputs": [
        {
          "output_type": "stream",
          "text": [
            "remainder of 2304811 divided by 47 25\n"
          ],
          "name": "stdout"
        }
      ]
    },
    {
      "cell_type": "markdown",
      "metadata": {
        "id": "HeEg7vpUDeQd",
        "colab_type": "text"
      },
      "source": [
        "Task 3: Enter a Boolean expression to test whether the sum of 673 and 909 is divisible by 3."
      ]
    },
    {
      "cell_type": "code",
      "metadata": {
        "id": "IL4MAYkZDlhA",
        "colab_type": "code",
        "colab": {
          "base_uri": "https://localhost:8080/",
          "height": 35
        },
        "outputId": "fcd9d648-81fe-4857-ae8f-c9f385f6dbc2"
      },
      "source": [
        "isSumDivisible = ( (673 + 909) % 3 ) == 0\n",
        "print(f\" whether the sum of 673 and 909 is divisible by 3 : {isSumDivisible}\") "
      ],
      "execution_count": null,
      "outputs": [
        {
          "output_type": "stream",
          "text": [
            " whether the sum of 673 and 909 is divisible by 3 : False\n"
          ],
          "name": "stdout"
        }
      ]
    },
    {
      "cell_type": "markdown",
      "metadata": {
        "id": "QZzXyNN4ENMg",
        "colab_type": "text"
      },
      "source": [
        "Task 4: Assign the value -9 to x and 1/2 to y. Predict the value of the following expression, then enter it\n",
        "to check your prediction:\n",
        "2**(y+1/2) if x+10<0 else 2**(y-1/2)"
      ]
    },
    {
      "cell_type": "code",
      "metadata": {
        "id": "YXOV3GImEPgk",
        "colab_type": "code",
        "colab": {
          "base_uri": "https://localhost:8080/",
          "height": 35
        },
        "outputId": "00bb6ac0-f25b-41b2-de46-e224ce8c7f4e"
      },
      "source": [
        "x = -9\n",
        "y = 1/2\n",
        "predict = 2 ** (y + 1/2) if x + 10 <0 else 2 ** (y -1/2)\n",
        "print(f\"prediction of the expression {predict}\")"
      ],
      "execution_count": null,
      "outputs": [
        {
          "output_type": "stream",
          "text": [
            "prediction of the expression 1.0\n"
          ],
          "name": "stdout"
        }
      ]
    },
    {
      "cell_type": "markdown",
      "metadata": {
        "id": "LaqPONcbFCax",
        "colab_type": "text"
      },
      "source": [
        "Task 5: Write a comprehension over {1, 2, 3, 4, 5} whose value is the set consisting of the squares of the\n",
        "first five positive integer"
      ]
    },
    {
      "cell_type": "code",
      "metadata": {
        "id": "moL6lBzGFIvy",
        "colab_type": "code",
        "colab": {
          "base_uri": "https://localhost:8080/",
          "height": 35
        },
        "outputId": "1c97650c-f113-4d4c-a37f-74e89b3d5af5"
      },
      "source": [
        "result_set = { x**2 for x in {1, 2, 3, 4, 5} if x > 0}\n",
        "print(f\"resulting set {result_set}\")"
      ],
      "execution_count": null,
      "outputs": [
        {
          "output_type": "stream",
          "text": [
            "resulting set {1, 4, 9, 16, 25}\n"
          ],
          "name": "stdout"
        }
      ]
    },
    {
      "cell_type": "markdown",
      "metadata": {
        "id": "gATSxWq5F3VE",
        "colab_type": "text"
      },
      "source": [
        "Task 6: Write a comprehension over {0, 1, 2, 3, 4} whose value is the set consisting of the first five powers\n",
        "of two, starting with 2\n",
        "0"
      ]
    },
    {
      "cell_type": "code",
      "metadata": {
        "id": "q0xt3g_rF64q",
        "colab_type": "code",
        "colab": {
          "base_uri": "https://localhost:8080/",
          "height": 35
        },
        "outputId": "96f45b74-d58b-47a4-8aee-9d6f1b0686dc"
      },
      "source": [
        "result_set = { 2 ** x for x in {0, 1, 2, 3, 4}}\n",
        "print(f\"resulting set {result_set}\")"
      ],
      "execution_count": null,
      "outputs": [
        {
          "output_type": "stream",
          "text": [
            "resulting set {1, 2, 4, 8, 16}\n"
          ],
          "name": "stdout"
        }
      ]
    },
    {
      "cell_type": "markdown",
      "metadata": {
        "id": "Y-hIuq8rIN3P",
        "colab_type": "text"
      },
      "source": [
        "Task 7 The value of the previous comprehension,\n",
        "{x*y for x in {1,2,3} for y in {2,3,4}}\n",
        "is a seven-element set. Replace {1,2,3} and {2,3,4} with two other three-element sets so that the value\n",
        "becomes a nine-element set."
      ]
    },
    {
      "cell_type": "code",
      "metadata": {
        "id": "k_nce9MwH8fr",
        "colab_type": "code",
        "colab": {
          "base_uri": "https://localhost:8080/",
          "height": 35
        },
        "outputId": "2df2e183-6bc5-41a0-ba98-a721527e2fd3"
      },
      "source": [
        "multi_set = {x*y for x in {1,2,4} for y in {2,3,5}} \n",
        "print(f\"resulting set {multi_set}\")"
      ],
      "execution_count": null,
      "outputs": [
        {
          "output_type": "stream",
          "text": [
            "resulting set {2, 3, 4, 5, 6, 8, 10, 12, 20}\n"
          ],
          "name": "stdout"
        }
      ]
    },
    {
      "cell_type": "code",
      "metadata": {
        "id": "ktJRUuQImCvi",
        "colab_type": "code",
        "colab": {}
      },
      "source": [
        ""
      ],
      "execution_count": null,
      "outputs": []
    },
    {
      "cell_type": "markdown",
      "metadata": {
        "id": "FLeKiO3bI4t2",
        "colab_type": "text"
      },
      "source": [
        "Task 8: Replace {1,2,3} and {2,3,4} in the previous comprehension with two disjoint (i.e. non-overlapping)\n",
        "three-element sets so that the value becomes a five-element set."
      ]
    },
    {
      "cell_type": "code",
      "metadata": {
        "id": "PTQ4IAuXJArt",
        "colab_type": "code",
        "colab": {
          "base_uri": "https://localhost:8080/",
          "height": 35
        },
        "outputId": "d9f2ef8e-46cf-4ae1-e963-24c705f1c279"
      },
      "source": [
        "non_overlap_multi_set = {x*y for x in {1,2,4} for y in {0, 8, 16}} \n",
        "print(f\"resulting set {non_overlap_multi_set}\")"
      ],
      "execution_count": null,
      "outputs": [
        {
          "output_type": "stream",
          "text": [
            "resulting set {0, 32, 64, 8, 16}\n"
          ],
          "name": "stdout"
        }
      ]
    },
    {
      "cell_type": "markdown",
      "metadata": {
        "id": "uqJkzU7Lg2TQ",
        "colab_type": "text"
      },
      "source": [
        "Task 9: Assume that S and T are assigned sets. Without using the intersection operator &, write a compre-\n",
        "hension over S whose value is the intersection of S and T. Hint: Use a membership test in a filter at the end\n",
        "of the comprehension.\n",
        "Try out your comprehension with S = {1,2,3,4} and T = {3,4,5,6}."
      ]
    },
    {
      "cell_type": "code",
      "metadata": {
        "id": "VTrwxl0YmNDC",
        "colab_type": "code",
        "colab": {
          "base_uri": "https://localhost:8080/",
          "height": 35
        },
        "outputId": "c469c698-5d53-45af-cdbc-480c434ef00d"
      },
      "source": [
        "S = {1, 2, 3, 4}\n",
        "T = {3, 4, 5, 6}\n",
        "intersect = {x for x in S if x in T }\n",
        "print(f\"intersection of the sets {intersect}\")"
      ],
      "execution_count": null,
      "outputs": [
        {
          "output_type": "stream",
          "text": [
            "intersection of the sets {3, 4}\n"
          ],
          "name": "stdout"
        }
      ]
    },
    {
      "cell_type": "markdown",
      "metadata": {
        "id": "JuscXdjBnYvS",
        "colab_type": "text"
      },
      "source": [
        "Task 10: Write an expression whose value is the average of the elements of the list [20, 10, 15, 75]."
      ]
    },
    {
      "cell_type": "code",
      "metadata": {
        "id": "6dsqFsHTnb_x",
        "colab_type": "code",
        "colab": {
          "base_uri": "https://localhost:8080/",
          "height": 35
        },
        "outputId": "8439d595-88f6-4de9-fd98-c4bc37e7c3cb"
      },
      "source": [
        "lis = [20, 10, 15, 75]\n",
        "avg = sum(lis) / len(lis)\n",
        "print(f\"average of the list {avg}\")"
      ],
      "execution_count": null,
      "outputs": [
        {
          "output_type": "stream",
          "text": [
            "average of the list 30.0\n"
          ],
          "name": "stdout"
        }
      ]
    },
    {
      "cell_type": "markdown",
      "metadata": {
        "id": "9OK6C7kAoAA3",
        "colab_type": "text"
      },
      "source": [
        "Task 11: Write a double list comprehension over the lists ['A','B','C'] and [1,2,3] whose value is the\n",
        "list of all possible two-element lists [letter, number]. That is, the value is\n",
        "[['A', 1], ['A', 2], ['A', 3], ['B', 1], ['B', 2],['B', 3],\n",
        "['C', 1], ['C', 2], ['C', 3]]"
      ]
    },
    {
      "cell_type": "code",
      "metadata": {
        "id": "ttW2LiuloEJO",
        "colab_type": "code",
        "colab": {
          "base_uri": "https://localhost:8080/",
          "height": 55
        },
        "outputId": "ec1019fd-598e-4a7d-a20b-d3708375cb94"
      },
      "source": [
        "letters = ['A','B','C'] \n",
        "numbers = [1,2,3]\n",
        "comb = [(x, y) for x in letters for y in numbers]\n",
        "print(f\"combinatin of the two lists {comb}\")"
      ],
      "execution_count": null,
      "outputs": [
        {
          "output_type": "stream",
          "text": [
            "combinatin of the two lists [('A', 1), ('A', 2), ('A', 3), ('B', 1), ('B', 2), ('B', 3), ('C', 1), ('C', 2), ('C', 3)]\n"
          ],
          "name": "stdout"
        }
      ]
    },
    {
      "cell_type": "markdown",
      "metadata": {
        "id": "dV-lu0jlo_I2",
        "colab_type": "text"
      },
      "source": [
        "Task 12: Suppose LofL has been assigned a list whose elements are themselves lists of numbers. Write an\n",
        "expression that evaluates to the sum of all the numbers in all the lists. The expression has the form\n",
        "sum([sum(...\n",
        "and includes one comprehension. Test your expression after assigning [[.25, .75, .1], [-1, 0], [4,\n",
        "4, 4, 4]] to LofL. Note that your expression should work for a list of any length."
      ]
    },
    {
      "cell_type": "code",
      "metadata": {
        "id": "XL9uMHcdpAUp",
        "colab_type": "code",
        "colab": {
          "base_uri": "https://localhost:8080/",
          "height": 35
        },
        "outputId": "ee7088d6-1f5e-451a-9cd3-4eba1705b7ed"
      },
      "source": [
        "LofL = [[.25, .75, .1], [-1, 0], [4, 4, 4, 4]] \n",
        "summation = sum(sum(LofL, []))\n",
        "print(f\"summation of the list {summation}\")"
      ],
      "execution_count": null,
      "outputs": [
        {
          "output_type": "stream",
          "text": [
            "summation of the list 16.1\n"
          ],
          "name": "stdout"
        }
      ]
    },
    {
      "cell_type": "markdown",
      "metadata": {
        "id": "Fi00bxczDkgx",
        "colab_type": "text"
      },
      "source": [
        "Task 13: Suppose S is a set of integers, e.g. {−4, −2, 1, 2, 5, 0}. Write a triple comprehension whose value\n",
        "is a list of all three-element tuples (i, j, k) such that i, j, k are elements of S whose sum is zero."
      ]
    },
    {
      "cell_type": "code",
      "metadata": {
        "id": "oOAB5jRrDqjg",
        "colab_type": "code",
        "colab": {
          "base_uri": "https://localhost:8080/",
          "height": 55
        },
        "outputId": "8f6ca21a-81e3-4385-c7a1-ac8252d729ea"
      },
      "source": [
        "S = [-4, -2, 1, 2, 5, 0]\n",
        "collected_tuples = [(i,j,k) for i in S for j in S for k in S if i + j + k == 0 ]\n",
        "print(f\"tuples whose sum is zero {collected_tuples}\") "
      ],
      "execution_count": null,
      "outputs": [
        {
          "output_type": "stream",
          "text": [
            "tuples whose sum is zero [(-4, 2, 2), (-2, 1, 1), (-2, 2, 0), (-2, 0, 2), (1, -2, 1), (1, 1, -2), (2, -4, 2), (2, -2, 0), (2, 2, -4), (2, 0, -2), (0, -2, 2), (0, 2, -2), (0, 0, 0)]\n"
          ],
          "name": "stdout"
        }
      ]
    },
    {
      "cell_type": "markdown",
      "metadata": {
        "id": "rROMIn0Hd6ST",
        "colab_type": "text"
      },
      "source": [
        "Task 14: Modify the comprehension of the previous task so that the resulting list does not include (0, 0, 0).\n",
        "Hint: add a filter."
      ]
    },
    {
      "cell_type": "code",
      "metadata": {
        "id": "ayGlXMjSeHTK",
        "colab_type": "code",
        "colab": {
          "base_uri": "https://localhost:8080/",
          "height": 35
        },
        "outputId": "12f1e201-554d-4848-8e4e-e20716fc54f8"
      },
      "source": [
        "S = [-4, -2, 1, 2, 5, 0]\n",
        "collected_tuples = [(m,n,o) for m in S for n in S for o in S if (m + n + o == 0) and (m!=0 and n!=0 and o!=0) ]\n",
        "print(f\" {collected_tuples}\") "
      ],
      "execution_count": null,
      "outputs": [
        {
          "output_type": "stream",
          "text": [
            " [(-4, 2, 2), (-2, 1, 1), (1, -2, 1), (1, 1, -2), (2, -4, 2), (2, 2, -4)]\n"
          ],
          "name": "stdout"
        }
      ]
    },
    {
      "cell_type": "markdown",
      "metadata": {
        "id": "yfvgGLbMnEHE",
        "colab_type": "text"
      },
      "source": [
        "Task 15: Further modify the expression so that its value is not the list of all such tuples but is the first\n",
        "such tuple."
      ]
    },
    {
      "cell_type": "code",
      "metadata": {
        "id": "JfHJolhknGgA",
        "colab_type": "code",
        "colab": {
          "base_uri": "https://localhost:8080/",
          "height": 35
        },
        "outputId": "87e207be-02a4-4832-c9ad-19916b9c487a"
      },
      "source": [
        "S = [-4, -2, 1, 2, 5, 0]\n",
        "collected_tuples = [(m,n,o) for m in S for n in S for o in S if (m + n + o == 0) and (m!=0 and n!=0 and o!=0) ][0]\n",
        "print(f\" single tuple {collected_tuples}\") "
      ],
      "execution_count": null,
      "outputs": [
        {
          "output_type": "stream",
          "text": [
            " single tuple (-4, 2, 2)\n"
          ],
          "name": "stdout"
        }
      ]
    },
    {
      "cell_type": "code",
      "metadata": {
        "id": "aWbu3mF_nF0U",
        "colab_type": "code",
        "colab": {
          "base_uri": "https://localhost:8080/",
          "height": 35
        },
        "outputId": "8f1e2a08-1d89-4f77-975f-3e26ee5e02a0"
      },
      "source": [
        "L = [1,2, 3, 4, 4]\n",
        "print(f\"length of list {len(L)} length of set {len(list(set(L)))}\")"
      ],
      "execution_count": null,
      "outputs": [
        {
          "output_type": "stream",
          "text": [
            "length of list 5 length of set 4\n"
          ],
          "name": "stdout"
        }
      ]
    },
    {
      "cell_type": "markdown",
      "metadata": {
        "id": "TNMPU9XXq77J",
        "colab_type": "text"
      },
      "source": [
        "Task 17: Write a comprehension over a range of the form range(n) such that the value of the compre-\n",
        "hension is the set of odd numbers from 1 to 99."
      ]
    },
    {
      "cell_type": "code",
      "metadata": {
        "id": "5yxQPO6JrK6X",
        "colab_type": "code",
        "colab": {
          "base_uri": "https://localhost:8080/",
          "height": 55
        },
        "outputId": "32788b35-53a3-4957-d26e-934ac8c67788"
      },
      "source": [
        "set_of_odd_num = [x for x in range(99) if x%2 !=0]\n",
        "print(f\" set of odd numbers {set_of_odd_num}\")"
      ],
      "execution_count": null,
      "outputs": [
        {
          "output_type": "stream",
          "text": [
            " set of odd numbers [1, 3, 5, 7, 9, 11, 13, 15, 17, 19, 21, 23, 25, 27, 29, 31, 33, 35, 37, 39, 41, 43, 45, 47, 49, 51, 53, 55, 57, 59, 61, 63, 65, 67, 69, 71, 73, 75, 77, 79, 81, 83, 85, 87, 89, 91, 93, 95, 97]\n"
          ],
          "name": "stdout"
        }
      ]
    },
    {
      "cell_type": "markdown",
      "metadata": {
        "id": "A7IKP1PKsnVh",
        "colab_type": "text"
      },
      "source": [
        "Task 18: Assign to L the list consisting of the first five letters ['A','B','C','D','E']. Next, use L in\n",
        "an expression whose value is\n",
        "[(0, ’A’), (1, ’B’), (2, ’C’), (3, ’D’), (4, ’E’)]\n",
        "Your expression should use a range and a zip, but should not use a comprehension.\n"
      ]
    },
    {
      "cell_type": "code",
      "metadata": {
        "id": "OoE_yriLs9bI",
        "colab_type": "code",
        "colab": {
          "base_uri": "https://localhost:8080/",
          "height": 35
        },
        "outputId": "952bfdd9-7fb9-4ab7-f714-7f806d775999"
      },
      "source": [
        "zipped_list = list(zip(list(range(5)) , ['A','B','C','D','E']))\n",
        "print(f\"zipped up list {zipped_list}\")"
      ],
      "execution_count": null,
      "outputs": [
        {
          "output_type": "stream",
          "text": [
            "zipped up list [(0, 'A'), (1, 'B'), (2, 'C'), (3, 'D'), (4, 'E')]\n"
          ],
          "name": "stdout"
        }
      ]
    },
    {
      "cell_type": "markdown",
      "metadata": {
        "id": "4T_qihjwtClB",
        "colab_type": "text"
      },
      "source": [
        "Task 19: Starting from the lists [10, 25, 40] and [1, 15, 20], write a comprehension whose value is\n",
        "the three-element list in which the first element is the sum of 10 and 1, the second is the sum of 25 and 15,\n",
        "and the third is the sum of 40 and 20. Your expression should use zip but not list."
      ]
    },
    {
      "cell_type": "code",
      "metadata": {
        "id": "P3yPnlgZu2gN",
        "colab_type": "code",
        "colab": {
          "base_uri": "https://localhost:8080/",
          "height": 35
        },
        "outputId": "68227e53-48c2-40a5-f4cf-880620fd7226"
      },
      "source": [
        "summed_up_list = [x + y for(x,y) in zip([10, 25, 40] , [1, 15, 20])]\n",
        "print(f\"summed up list {summed_up_list}\")"
      ],
      "execution_count": null,
      "outputs": [
        {
          "output_type": "stream",
          "text": [
            "summed up list [11, 40, 60]\n"
          ],
          "name": "stdout"
        }
      ]
    },
    {
      "cell_type": "markdown",
      "metadata": {
        "id": "8CxWAt4uxmEb",
        "colab_type": "text"
      },
      "source": [
        "Task 20: Suppose dlist is a list of dictionaries and k is a key that appears in all the dictionaries in dlist.\n",
        "Write a comprehension that evaluates to the list whose i\n",
        "th element is the value corresponding to key k in\n",
        "the i\n",
        "th dictionary in dlist.\n",
        "Test your comprehension with some data. Here are some example data.\n",
        "dlist = [{'James':'Sean', 'director':'Terence'}, {'James':'Roger',\n",
        "'director':'Lewis'}, {'James':'Pierce', 'director':'Roger'}]\n",
        "k = 'James'\n",
        "For these data, the value corresponding to k in the first dictionary is ’Sean’, the value corresponding to k\n",
        "in the second dictionary is ’Roger’, and the value corresponding to k in the third dictionary is ’Pierce’,\n",
        "so the comprehension should evaluate to [’Sean’,’Roger’,’Pierce’].\n",
        "Task 21: Modify the comprehension in Task 20 to handle the case in which k "
      ]
    },
    {
      "cell_type": "code",
      "metadata": {
        "id": "S7ewm_3sxpVW",
        "colab_type": "code",
        "colab": {
          "base_uri": "https://localhost:8080/",
          "height": 35
        },
        "outputId": "a70c61a5-35a0-4929-dd46-487b8148dfe2"
      },
      "source": [
        "dlist = [{'James':'Sean', 'director':'Terence'}, {'James':'Roger', 'director':'Lewis'}, {'James':'Pierce', 'director':'Roger'}]\n",
        "k = 'James'\n",
        "key_mapping = [ value[k] for value in dlist if k in value]\n",
        "print(f\"collected mapping for James {key_mapping}\")"
      ],
      "execution_count": null,
      "outputs": [
        {
          "output_type": "stream",
          "text": [
            "collected mapping for James ['Sean', 'Roger', 'Pierce']\n"
          ],
          "name": "stdout"
        }
      ]
    },
    {
      "cell_type": "markdown",
      "metadata": {
        "id": "arD2sEBd13cs",
        "colab_type": "text"
      },
      "source": [
        "Task 21: Modify the comprehension in Task 20 to handle the case in which k might not appear in all the\n",
        "dictionaries. The comprehension evaluates to the list whose i\n",
        "th element is the value corresponding to key k\n",
        "in the i\n",
        "th dictionary in dlist if that dictionary contains that key, and 'NOT PRESENT' otherwise. One way\n",
        "to solve this is to use a conditional expression. Another way is to use the .get(key, default) method of\n",
        "dictionaries.\n",
        "Test your comprehension with k = 'Bilbo' and k = 'Frodo' and with the following list of dictionaries:\n",
        "dlist = [{'Bilbo':'Ian','Frodo':'Elijah'},\n",
        "{'Bilbo':'Martin','Thorin':'Richard'}]\n",
        "For example, with k = Frodo', the first dictionary in the list maps ’Frodo’ to ’Elijah’, and the sec-\n",
        "ond dictionary in the list does not map ’Frodo’ to anything, so the comprehension should evaluate"
      ]
    },
    {
      "cell_type": "code",
      "metadata": {
        "id": "4SOFvA5t14KX",
        "colab_type": "code",
        "colab": {
          "base_uri": "https://localhost:8080/",
          "height": 35
        },
        "outputId": "81949071-d342-47ec-8246-f0d192ded523"
      },
      "source": [
        " dlist = [{'Bilbo':'Ian','Frodo':'Elijah'}, {'Bilbo':'Martin','Thorin':'Richard'}] \n",
        "k = 'Frodo'\n",
        "key_mapping = [ value[k] if k in value else 'NOT PRESENT' for value in dlist ]\n",
        "print(f\"collected mapping for Frodo {key_mapping}\")"
      ],
      "execution_count": null,
      "outputs": [
        {
          "output_type": "stream",
          "text": [
            "collected mapping for Frodo ['Elijah', 'NOT PRESENT']\n"
          ],
          "name": "stdout"
        }
      ]
    },
    {
      "cell_type": "markdown",
      "metadata": {
        "id": "NVtY0HQv73tn",
        "colab_type": "text"
      },
      "source": [
        "Task 22: Using range, write a comprehension whose value is a dictionary. The keys should be the integers\n",
        "from 0 to 99 and the value corresponding to a key should be the square of the key."
      ]
    },
    {
      "cell_type": "code",
      "metadata": {
        "id": "KJ2SRluJ2_Ai",
        "colab_type": "code",
        "colab": {
          "base_uri": "https://localhost:8080/",
          "height": 55
        },
        "outputId": "9dce6036-ae38-4af8-f288-114bbb7e314a"
      },
      "source": [
        "result_dict = {x:x * x for x in range(100)}\n",
        "print(f\"dictionary with squares {result_dict}\")"
      ],
      "execution_count": null,
      "outputs": [
        {
          "output_type": "stream",
          "text": [
            "dictionary with squares {0: 0, 1: 1, 2: 4, 3: 9, 4: 16, 5: 25, 6: 36, 7: 49, 8: 64, 9: 81, 10: 100, 11: 121, 12: 144, 13: 169, 14: 196, 15: 225, 16: 256, 17: 289, 18: 324, 19: 361, 20: 400, 21: 441, 22: 484, 23: 529, 24: 576, 25: 625, 26: 676, 27: 729, 28: 784, 29: 841, 30: 900, 31: 961, 32: 1024, 33: 1089, 34: 1156, 35: 1225, 36: 1296, 37: 1369, 38: 1444, 39: 1521, 40: 1600, 41: 1681, 42: 1764, 43: 1849, 44: 1936, 45: 2025, 46: 2116, 47: 2209, 48: 2304, 49: 2401, 50: 2500, 51: 2601, 52: 2704, 53: 2809, 54: 2916, 55: 3025, 56: 3136, 57: 3249, 58: 3364, 59: 3481, 60: 3600, 61: 3721, 62: 3844, 63: 3969, 64: 4096, 65: 4225, 66: 4356, 67: 4489, 68: 4624, 69: 4761, 70: 4900, 71: 5041, 72: 5184, 73: 5329, 74: 5476, 75: 5625, 76: 5776, 77: 5929, 78: 6084, 79: 6241, 80: 6400, 81: 6561, 82: 6724, 83: 6889, 84: 7056, 85: 7225, 86: 7396, 87: 7569, 88: 7744, 89: 7921, 90: 8100, 91: 8281, 92: 8464, 93: 8649, 94: 8836, 95: 9025, 96: 9216, 97: 9409, 98: 9604, 99: 9801}\n"
          ],
          "name": "stdout"
        }
      ]
    },
    {
      "cell_type": "markdown",
      "metadata": {
        "id": "SBGcAbuhFBKa",
        "colab_type": "text"
      },
      "source": [
        "Task 23: Assign to the variable D the set {'red','white','blue'}. Now write a comprehension that\n",
        "evaluates to a dictionary that represents the identity function on D.\n",
        "Task 24: Our system for writing numbers uses decimal notation. For example, t"
      ]
    },
    {
      "cell_type": "code",
      "metadata": {
        "id": "VJA-G0QqFC0R",
        "colab_type": "code",
        "colab": {}
      },
      "source": [
        "D = {'red','white','blue'}. \n",
        "ident_dict = {x:x for x in D}"
      ],
      "execution_count": null,
      "outputs": []
    },
    {
      "cell_type": "markdown",
      "metadata": {
        "id": "p_mwpy44IbGQ",
        "colab_type": "text"
      },
      "source": [
        "Task 24: Our system for writing numbers uses decimal notation. For example, the digits (2, 1, 5) represent\n",
        "the number 2 × 102 + 1 · 101 + 5 · 100\n",
        ". We say for this system that the base is 10, and that the available\n",
        "digits are 0, 1, 2, . . . , 9.\n",
        "In binary, the digits (1, 0, 1) represent the number 1 × 2\n",
        "2 + 0 · 2\n",
        "1 + 1 · 2\n",
        "0\n",
        ". In this case, the base is 2, and\n",
        "the available digits are 0, 1.\n",
        "Write a dictionary comprehension using the variables base and digits that evaluates to a dictionary\n",
        "that maps each three-digit number to the three digits that represent it. For example, if base = 10 then\n",
        "digits should be the set {0,1,2,..., 9} and the comprehension should evaluate to\n",
        "{0:(0,0,0), 1:(0,0,1), ..., 999:(9,9,9)}\n",
        "If base = 2 then digits should be the set {0,1}, and the comprehension should evaluate to\n",
        "{0:(0,0,0), 1:(0,0,1), 2:(0,1,0),3:(0,1,1), 4:(1,0,0), ...}"
      ]
    },
    {
      "cell_type": "code",
      "metadata": {
        "id": "dCEFsfEMH9R4",
        "colab_type": "code",
        "colab": {
          "base_uri": "https://localhost:8080/",
          "height": 55
        },
        "outputId": "b6f3e555-be9d-404a-a8ea-b9833bec691d"
      },
      "source": [
        "base = 10\n",
        "digits = set(range(10))\n",
        "result_variable_dict = {x : (x // base ** 2, (x - ((x // base ** 2) * (base ** 2))) // base , x % base) for x in range(base * base * base)}\n",
        "print(f\"resulting dictionary with digit variables {result_variable_dict}\")\n"
      ],
      "execution_count": null,
      "outputs": [
        {
          "output_type": "stream",
          "text": [
            "resulting dictionary with digit variables {0: (0, 0, 0), 1: (0, 0, 1), 2: (0, 0, 2), 3: (0, 0, 3), 4: (0, 0, 4), 5: (0, 0, 5), 6: (0, 0, 6), 7: (0, 0, 7), 8: (0, 0, 8), 9: (0, 0, 9), 10: (0, 1, 0), 11: (0, 1, 1), 12: (0, 1, 2), 13: (0, 1, 3), 14: (0, 1, 4), 15: (0, 1, 5), 16: (0, 1, 6), 17: (0, 1, 7), 18: (0, 1, 8), 19: (0, 1, 9), 20: (0, 2, 0), 21: (0, 2, 1), 22: (0, 2, 2), 23: (0, 2, 3), 24: (0, 2, 4), 25: (0, 2, 5), 26: (0, 2, 6), 27: (0, 2, 7), 28: (0, 2, 8), 29: (0, 2, 9), 30: (0, 3, 0), 31: (0, 3, 1), 32: (0, 3, 2), 33: (0, 3, 3), 34: (0, 3, 4), 35: (0, 3, 5), 36: (0, 3, 6), 37: (0, 3, 7), 38: (0, 3, 8), 39: (0, 3, 9), 40: (0, 4, 0), 41: (0, 4, 1), 42: (0, 4, 2), 43: (0, 4, 3), 44: (0, 4, 4), 45: (0, 4, 5), 46: (0, 4, 6), 47: (0, 4, 7), 48: (0, 4, 8), 49: (0, 4, 9), 50: (0, 5, 0), 51: (0, 5, 1), 52: (0, 5, 2), 53: (0, 5, 3), 54: (0, 5, 4), 55: (0, 5, 5), 56: (0, 5, 6), 57: (0, 5, 7), 58: (0, 5, 8), 59: (0, 5, 9), 60: (0, 6, 0), 61: (0, 6, 1), 62: (0, 6, 2), 63: (0, 6, 3), 64: (0, 6, 4), 65: (0, 6, 5), 66: (0, 6, 6), 67: (0, 6, 7), 68: (0, 6, 8), 69: (0, 6, 9), 70: (0, 7, 0), 71: (0, 7, 1), 72: (0, 7, 2), 73: (0, 7, 3), 74: (0, 7, 4), 75: (0, 7, 5), 76: (0, 7, 6), 77: (0, 7, 7), 78: (0, 7, 8), 79: (0, 7, 9), 80: (0, 8, 0), 81: (0, 8, 1), 82: (0, 8, 2), 83: (0, 8, 3), 84: (0, 8, 4), 85: (0, 8, 5), 86: (0, 8, 6), 87: (0, 8, 7), 88: (0, 8, 8), 89: (0, 8, 9), 90: (0, 9, 0), 91: (0, 9, 1), 92: (0, 9, 2), 93: (0, 9, 3), 94: (0, 9, 4), 95: (0, 9, 5), 96: (0, 9, 6), 97: (0, 9, 7), 98: (0, 9, 8), 99: (0, 9, 9), 100: (1, 0, 0), 101: (1, 0, 1), 102: (1, 0, 2), 103: (1, 0, 3), 104: (1, 0, 4), 105: (1, 0, 5), 106: (1, 0, 6), 107: (1, 0, 7), 108: (1, 0, 8), 109: (1, 0, 9), 110: (1, 1, 0), 111: (1, 1, 1), 112: (1, 1, 2), 113: (1, 1, 3), 114: (1, 1, 4), 115: (1, 1, 5), 116: (1, 1, 6), 117: (1, 1, 7), 118: (1, 1, 8), 119: (1, 1, 9), 120: (1, 2, 0), 121: (1, 2, 1), 122: (1, 2, 2), 123: (1, 2, 3), 124: (1, 2, 4), 125: (1, 2, 5), 126: (1, 2, 6), 127: (1, 2, 7), 128: (1, 2, 8), 129: (1, 2, 9), 130: (1, 3, 0), 131: (1, 3, 1), 132: (1, 3, 2), 133: (1, 3, 3), 134: (1, 3, 4), 135: (1, 3, 5), 136: (1, 3, 6), 137: (1, 3, 7), 138: (1, 3, 8), 139: (1, 3, 9), 140: (1, 4, 0), 141: (1, 4, 1), 142: (1, 4, 2), 143: (1, 4, 3), 144: (1, 4, 4), 145: (1, 4, 5), 146: (1, 4, 6), 147: (1, 4, 7), 148: (1, 4, 8), 149: (1, 4, 9), 150: (1, 5, 0), 151: (1, 5, 1), 152: (1, 5, 2), 153: (1, 5, 3), 154: (1, 5, 4), 155: (1, 5, 5), 156: (1, 5, 6), 157: (1, 5, 7), 158: (1, 5, 8), 159: (1, 5, 9), 160: (1, 6, 0), 161: (1, 6, 1), 162: (1, 6, 2), 163: (1, 6, 3), 164: (1, 6, 4), 165: (1, 6, 5), 166: (1, 6, 6), 167: (1, 6, 7), 168: (1, 6, 8), 169: (1, 6, 9), 170: (1, 7, 0), 171: (1, 7, 1), 172: (1, 7, 2), 173: (1, 7, 3), 174: (1, 7, 4), 175: (1, 7, 5), 176: (1, 7, 6), 177: (1, 7, 7), 178: (1, 7, 8), 179: (1, 7, 9), 180: (1, 8, 0), 181: (1, 8, 1), 182: (1, 8, 2), 183: (1, 8, 3), 184: (1, 8, 4), 185: (1, 8, 5), 186: (1, 8, 6), 187: (1, 8, 7), 188: (1, 8, 8), 189: (1, 8, 9), 190: (1, 9, 0), 191: (1, 9, 1), 192: (1, 9, 2), 193: (1, 9, 3), 194: (1, 9, 4), 195: (1, 9, 5), 196: (1, 9, 6), 197: (1, 9, 7), 198: (1, 9, 8), 199: (1, 9, 9), 200: (2, 0, 0), 201: (2, 0, 1), 202: (2, 0, 2), 203: (2, 0, 3), 204: (2, 0, 4), 205: (2, 0, 5), 206: (2, 0, 6), 207: (2, 0, 7), 208: (2, 0, 8), 209: (2, 0, 9), 210: (2, 1, 0), 211: (2, 1, 1), 212: (2, 1, 2), 213: (2, 1, 3), 214: (2, 1, 4), 215: (2, 1, 5), 216: (2, 1, 6), 217: (2, 1, 7), 218: (2, 1, 8), 219: (2, 1, 9), 220: (2, 2, 0), 221: (2, 2, 1), 222: (2, 2, 2), 223: (2, 2, 3), 224: (2, 2, 4), 225: (2, 2, 5), 226: (2, 2, 6), 227: (2, 2, 7), 228: (2, 2, 8), 229: (2, 2, 9), 230: (2, 3, 0), 231: (2, 3, 1), 232: (2, 3, 2), 233: (2, 3, 3), 234: (2, 3, 4), 235: (2, 3, 5), 236: (2, 3, 6), 237: (2, 3, 7), 238: (2, 3, 8), 239: (2, 3, 9), 240: (2, 4, 0), 241: (2, 4, 1), 242: (2, 4, 2), 243: (2, 4, 3), 244: (2, 4, 4), 245: (2, 4, 5), 246: (2, 4, 6), 247: (2, 4, 7), 248: (2, 4, 8), 249: (2, 4, 9), 250: (2, 5, 0), 251: (2, 5, 1), 252: (2, 5, 2), 253: (2, 5, 3), 254: (2, 5, 4), 255: (2, 5, 5), 256: (2, 5, 6), 257: (2, 5, 7), 258: (2, 5, 8), 259: (2, 5, 9), 260: (2, 6, 0), 261: (2, 6, 1), 262: (2, 6, 2), 263: (2, 6, 3), 264: (2, 6, 4), 265: (2, 6, 5), 266: (2, 6, 6), 267: (2, 6, 7), 268: (2, 6, 8), 269: (2, 6, 9), 270: (2, 7, 0), 271: (2, 7, 1), 272: (2, 7, 2), 273: (2, 7, 3), 274: (2, 7, 4), 275: (2, 7, 5), 276: (2, 7, 6), 277: (2, 7, 7), 278: (2, 7, 8), 279: (2, 7, 9), 280: (2, 8, 0), 281: (2, 8, 1), 282: (2, 8, 2), 283: (2, 8, 3), 284: (2, 8, 4), 285: (2, 8, 5), 286: (2, 8, 6), 287: (2, 8, 7), 288: (2, 8, 8), 289: (2, 8, 9), 290: (2, 9, 0), 291: (2, 9, 1), 292: (2, 9, 2), 293: (2, 9, 3), 294: (2, 9, 4), 295: (2, 9, 5), 296: (2, 9, 6), 297: (2, 9, 7), 298: (2, 9, 8), 299: (2, 9, 9), 300: (3, 0, 0), 301: (3, 0, 1), 302: (3, 0, 2), 303: (3, 0, 3), 304: (3, 0, 4), 305: (3, 0, 5), 306: (3, 0, 6), 307: (3, 0, 7), 308: (3, 0, 8), 309: (3, 0, 9), 310: (3, 1, 0), 311: (3, 1, 1), 312: (3, 1, 2), 313: (3, 1, 3), 314: (3, 1, 4), 315: (3, 1, 5), 316: (3, 1, 6), 317: (3, 1, 7), 318: (3, 1, 8), 319: (3, 1, 9), 320: (3, 2, 0), 321: (3, 2, 1), 322: (3, 2, 2), 323: (3, 2, 3), 324: (3, 2, 4), 325: (3, 2, 5), 326: (3, 2, 6), 327: (3, 2, 7), 328: (3, 2, 8), 329: (3, 2, 9), 330: (3, 3, 0), 331: (3, 3, 1), 332: (3, 3, 2), 333: (3, 3, 3), 334: (3, 3, 4), 335: (3, 3, 5), 336: (3, 3, 6), 337: (3, 3, 7), 338: (3, 3, 8), 339: (3, 3, 9), 340: (3, 4, 0), 341: (3, 4, 1), 342: (3, 4, 2), 343: (3, 4, 3), 344: (3, 4, 4), 345: (3, 4, 5), 346: (3, 4, 6), 347: (3, 4, 7), 348: (3, 4, 8), 349: (3, 4, 9), 350: (3, 5, 0), 351: (3, 5, 1), 352: (3, 5, 2), 353: (3, 5, 3), 354: (3, 5, 4), 355: (3, 5, 5), 356: (3, 5, 6), 357: (3, 5, 7), 358: (3, 5, 8), 359: (3, 5, 9), 360: (3, 6, 0), 361: (3, 6, 1), 362: (3, 6, 2), 363: (3, 6, 3), 364: (3, 6, 4), 365: (3, 6, 5), 366: (3, 6, 6), 367: (3, 6, 7), 368: (3, 6, 8), 369: (3, 6, 9), 370: (3, 7, 0), 371: (3, 7, 1), 372: (3, 7, 2), 373: (3, 7, 3), 374: (3, 7, 4), 375: (3, 7, 5), 376: (3, 7, 6), 377: (3, 7, 7), 378: (3, 7, 8), 379: (3, 7, 9), 380: (3, 8, 0), 381: (3, 8, 1), 382: (3, 8, 2), 383: (3, 8, 3), 384: (3, 8, 4), 385: (3, 8, 5), 386: (3, 8, 6), 387: (3, 8, 7), 388: (3, 8, 8), 389: (3, 8, 9), 390: (3, 9, 0), 391: (3, 9, 1), 392: (3, 9, 2), 393: (3, 9, 3), 394: (3, 9, 4), 395: (3, 9, 5), 396: (3, 9, 6), 397: (3, 9, 7), 398: (3, 9, 8), 399: (3, 9, 9), 400: (4, 0, 0), 401: (4, 0, 1), 402: (4, 0, 2), 403: (4, 0, 3), 404: (4, 0, 4), 405: (4, 0, 5), 406: (4, 0, 6), 407: (4, 0, 7), 408: (4, 0, 8), 409: (4, 0, 9), 410: (4, 1, 0), 411: (4, 1, 1), 412: (4, 1, 2), 413: (4, 1, 3), 414: (4, 1, 4), 415: (4, 1, 5), 416: (4, 1, 6), 417: (4, 1, 7), 418: (4, 1, 8), 419: (4, 1, 9), 420: (4, 2, 0), 421: (4, 2, 1), 422: (4, 2, 2), 423: (4, 2, 3), 424: (4, 2, 4), 425: (4, 2, 5), 426: (4, 2, 6), 427: (4, 2, 7), 428: (4, 2, 8), 429: (4, 2, 9), 430: (4, 3, 0), 431: (4, 3, 1), 432: (4, 3, 2), 433: (4, 3, 3), 434: (4, 3, 4), 435: (4, 3, 5), 436: (4, 3, 6), 437: (4, 3, 7), 438: (4, 3, 8), 439: (4, 3, 9), 440: (4, 4, 0), 441: (4, 4, 1), 442: (4, 4, 2), 443: (4, 4, 3), 444: (4, 4, 4), 445: (4, 4, 5), 446: (4, 4, 6), 447: (4, 4, 7), 448: (4, 4, 8), 449: (4, 4, 9), 450: (4, 5, 0), 451: (4, 5, 1), 452: (4, 5, 2), 453: (4, 5, 3), 454: (4, 5, 4), 455: (4, 5, 5), 456: (4, 5, 6), 457: (4, 5, 7), 458: (4, 5, 8), 459: (4, 5, 9), 460: (4, 6, 0), 461: (4, 6, 1), 462: (4, 6, 2), 463: (4, 6, 3), 464: (4, 6, 4), 465: (4, 6, 5), 466: (4, 6, 6), 467: (4, 6, 7), 468: (4, 6, 8), 469: (4, 6, 9), 470: (4, 7, 0), 471: (4, 7, 1), 472: (4, 7, 2), 473: (4, 7, 3), 474: (4, 7, 4), 475: (4, 7, 5), 476: (4, 7, 6), 477: (4, 7, 7), 478: (4, 7, 8), 479: (4, 7, 9), 480: (4, 8, 0), 481: (4, 8, 1), 482: (4, 8, 2), 483: (4, 8, 3), 484: (4, 8, 4), 485: (4, 8, 5), 486: (4, 8, 6), 487: (4, 8, 7), 488: (4, 8, 8), 489: (4, 8, 9), 490: (4, 9, 0), 491: (4, 9, 1), 492: (4, 9, 2), 493: (4, 9, 3), 494: (4, 9, 4), 495: (4, 9, 5), 496: (4, 9, 6), 497: (4, 9, 7), 498: (4, 9, 8), 499: (4, 9, 9), 500: (5, 0, 0), 501: (5, 0, 1), 502: (5, 0, 2), 503: (5, 0, 3), 504: (5, 0, 4), 505: (5, 0, 5), 506: (5, 0, 6), 507: (5, 0, 7), 508: (5, 0, 8), 509: (5, 0, 9), 510: (5, 1, 0), 511: (5, 1, 1), 512: (5, 1, 2), 513: (5, 1, 3), 514: (5, 1, 4), 515: (5, 1, 5), 516: (5, 1, 6), 517: (5, 1, 7), 518: (5, 1, 8), 519: (5, 1, 9), 520: (5, 2, 0), 521: (5, 2, 1), 522: (5, 2, 2), 523: (5, 2, 3), 524: (5, 2, 4), 525: (5, 2, 5), 526: (5, 2, 6), 527: (5, 2, 7), 528: (5, 2, 8), 529: (5, 2, 9), 530: (5, 3, 0), 531: (5, 3, 1), 532: (5, 3, 2), 533: (5, 3, 3), 534: (5, 3, 4), 535: (5, 3, 5), 536: (5, 3, 6), 537: (5, 3, 7), 538: (5, 3, 8), 539: (5, 3, 9), 540: (5, 4, 0), 541: (5, 4, 1), 542: (5, 4, 2), 543: (5, 4, 3), 544: (5, 4, 4), 545: (5, 4, 5), 546: (5, 4, 6), 547: (5, 4, 7), 548: (5, 4, 8), 549: (5, 4, 9), 550: (5, 5, 0), 551: (5, 5, 1), 552: (5, 5, 2), 553: (5, 5, 3), 554: (5, 5, 4), 555: (5, 5, 5), 556: (5, 5, 6), 557: (5, 5, 7), 558: (5, 5, 8), 559: (5, 5, 9), 560: (5, 6, 0), 561: (5, 6, 1), 562: (5, 6, 2), 563: (5, 6, 3), 564: (5, 6, 4), 565: (5, 6, 5), 566: (5, 6, 6), 567: (5, 6, 7), 568: (5, 6, 8), 569: (5, 6, 9), 570: (5, 7, 0), 571: (5, 7, 1), 572: (5, 7, 2), 573: (5, 7, 3), 574: (5, 7, 4), 575: (5, 7, 5), 576: (5, 7, 6), 577: (5, 7, 7), 578: (5, 7, 8), 579: (5, 7, 9), 580: (5, 8, 0), 581: (5, 8, 1), 582: (5, 8, 2), 583: (5, 8, 3), 584: (5, 8, 4), 585: (5, 8, 5), 586: (5, 8, 6), 587: (5, 8, 7), 588: (5, 8, 8), 589: (5, 8, 9), 590: (5, 9, 0), 591: (5, 9, 1), 592: (5, 9, 2), 593: (5, 9, 3), 594: (5, 9, 4), 595: (5, 9, 5), 596: (5, 9, 6), 597: (5, 9, 7), 598: (5, 9, 8), 599: (5, 9, 9), 600: (6, 0, 0), 601: (6, 0, 1), 602: (6, 0, 2), 603: (6, 0, 3), 604: (6, 0, 4), 605: (6, 0, 5), 606: (6, 0, 6), 607: (6, 0, 7), 608: (6, 0, 8), 609: (6, 0, 9), 610: (6, 1, 0), 611: (6, 1, 1), 612: (6, 1, 2), 613: (6, 1, 3), 614: (6, 1, 4), 615: (6, 1, 5), 616: (6, 1, 6), 617: (6, 1, 7), 618: (6, 1, 8), 619: (6, 1, 9), 620: (6, 2, 0), 621: (6, 2, 1), 622: (6, 2, 2), 623: (6, 2, 3), 624: (6, 2, 4), 625: (6, 2, 5), 626: (6, 2, 6), 627: (6, 2, 7), 628: (6, 2, 8), 629: (6, 2, 9), 630: (6, 3, 0), 631: (6, 3, 1), 632: (6, 3, 2), 633: (6, 3, 3), 634: (6, 3, 4), 635: (6, 3, 5), 636: (6, 3, 6), 637: (6, 3, 7), 638: (6, 3, 8), 639: (6, 3, 9), 640: (6, 4, 0), 641: (6, 4, 1), 642: (6, 4, 2), 643: (6, 4, 3), 644: (6, 4, 4), 645: (6, 4, 5), 646: (6, 4, 6), 647: (6, 4, 7), 648: (6, 4, 8), 649: (6, 4, 9), 650: (6, 5, 0), 651: (6, 5, 1), 652: (6, 5, 2), 653: (6, 5, 3), 654: (6, 5, 4), 655: (6, 5, 5), 656: (6, 5, 6), 657: (6, 5, 7), 658: (6, 5, 8), 659: (6, 5, 9), 660: (6, 6, 0), 661: (6, 6, 1), 662: (6, 6, 2), 663: (6, 6, 3), 664: (6, 6, 4), 665: (6, 6, 5), 666: (6, 6, 6), 667: (6, 6, 7), 668: (6, 6, 8), 669: (6, 6, 9), 670: (6, 7, 0), 671: (6, 7, 1), 672: (6, 7, 2), 673: (6, 7, 3), 674: (6, 7, 4), 675: (6, 7, 5), 676: (6, 7, 6), 677: (6, 7, 7), 678: (6, 7, 8), 679: (6, 7, 9), 680: (6, 8, 0), 681: (6, 8, 1), 682: (6, 8, 2), 683: (6, 8, 3), 684: (6, 8, 4), 685: (6, 8, 5), 686: (6, 8, 6), 687: (6, 8, 7), 688: (6, 8, 8), 689: (6, 8, 9), 690: (6, 9, 0), 691: (6, 9, 1), 692: (6, 9, 2), 693: (6, 9, 3), 694: (6, 9, 4), 695: (6, 9, 5), 696: (6, 9, 6), 697: (6, 9, 7), 698: (6, 9, 8), 699: (6, 9, 9), 700: (7, 0, 0), 701: (7, 0, 1), 702: (7, 0, 2), 703: (7, 0, 3), 704: (7, 0, 4), 705: (7, 0, 5), 706: (7, 0, 6), 707: (7, 0, 7), 708: (7, 0, 8), 709: (7, 0, 9), 710: (7, 1, 0), 711: (7, 1, 1), 712: (7, 1, 2), 713: (7, 1, 3), 714: (7, 1, 4), 715: (7, 1, 5), 716: (7, 1, 6), 717: (7, 1, 7), 718: (7, 1, 8), 719: (7, 1, 9), 720: (7, 2, 0), 721: (7, 2, 1), 722: (7, 2, 2), 723: (7, 2, 3), 724: (7, 2, 4), 725: (7, 2, 5), 726: (7, 2, 6), 727: (7, 2, 7), 728: (7, 2, 8), 729: (7, 2, 9), 730: (7, 3, 0), 731: (7, 3, 1), 732: (7, 3, 2), 733: (7, 3, 3), 734: (7, 3, 4), 735: (7, 3, 5), 736: (7, 3, 6), 737: (7, 3, 7), 738: (7, 3, 8), 739: (7, 3, 9), 740: (7, 4, 0), 741: (7, 4, 1), 742: (7, 4, 2), 743: (7, 4, 3), 744: (7, 4, 4), 745: (7, 4, 5), 746: (7, 4, 6), 747: (7, 4, 7), 748: (7, 4, 8), 749: (7, 4, 9), 750: (7, 5, 0), 751: (7, 5, 1), 752: (7, 5, 2), 753: (7, 5, 3), 754: (7, 5, 4), 755: (7, 5, 5), 756: (7, 5, 6), 757: (7, 5, 7), 758: (7, 5, 8), 759: (7, 5, 9), 760: (7, 6, 0), 761: (7, 6, 1), 762: (7, 6, 2), 763: (7, 6, 3), 764: (7, 6, 4), 765: (7, 6, 5), 766: (7, 6, 6), 767: (7, 6, 7), 768: (7, 6, 8), 769: (7, 6, 9), 770: (7, 7, 0), 771: (7, 7, 1), 772: (7, 7, 2), 773: (7, 7, 3), 774: (7, 7, 4), 775: (7, 7, 5), 776: (7, 7, 6), 777: (7, 7, 7), 778: (7, 7, 8), 779: (7, 7, 9), 780: (7, 8, 0), 781: (7, 8, 1), 782: (7, 8, 2), 783: (7, 8, 3), 784: (7, 8, 4), 785: (7, 8, 5), 786: (7, 8, 6), 787: (7, 8, 7), 788: (7, 8, 8), 789: (7, 8, 9), 790: (7, 9, 0), 791: (7, 9, 1), 792: (7, 9, 2), 793: (7, 9, 3), 794: (7, 9, 4), 795: (7, 9, 5), 796: (7, 9, 6), 797: (7, 9, 7), 798: (7, 9, 8), 799: (7, 9, 9), 800: (8, 0, 0), 801: (8, 0, 1), 802: (8, 0, 2), 803: (8, 0, 3), 804: (8, 0, 4), 805: (8, 0, 5), 806: (8, 0, 6), 807: (8, 0, 7), 808: (8, 0, 8), 809: (8, 0, 9), 810: (8, 1, 0), 811: (8, 1, 1), 812: (8, 1, 2), 813: (8, 1, 3), 814: (8, 1, 4), 815: (8, 1, 5), 816: (8, 1, 6), 817: (8, 1, 7), 818: (8, 1, 8), 819: (8, 1, 9), 820: (8, 2, 0), 821: (8, 2, 1), 822: (8, 2, 2), 823: (8, 2, 3), 824: (8, 2, 4), 825: (8, 2, 5), 826: (8, 2, 6), 827: (8, 2, 7), 828: (8, 2, 8), 829: (8, 2, 9), 830: (8, 3, 0), 831: (8, 3, 1), 832: (8, 3, 2), 833: (8, 3, 3), 834: (8, 3, 4), 835: (8, 3, 5), 836: (8, 3, 6), 837: (8, 3, 7), 838: (8, 3, 8), 839: (8, 3, 9), 840: (8, 4, 0), 841: (8, 4, 1), 842: (8, 4, 2), 843: (8, 4, 3), 844: (8, 4, 4), 845: (8, 4, 5), 846: (8, 4, 6), 847: (8, 4, 7), 848: (8, 4, 8), 849: (8, 4, 9), 850: (8, 5, 0), 851: (8, 5, 1), 852: (8, 5, 2), 853: (8, 5, 3), 854: (8, 5, 4), 855: (8, 5, 5), 856: (8, 5, 6), 857: (8, 5, 7), 858: (8, 5, 8), 859: (8, 5, 9), 860: (8, 6, 0), 861: (8, 6, 1), 862: (8, 6, 2), 863: (8, 6, 3), 864: (8, 6, 4), 865: (8, 6, 5), 866: (8, 6, 6), 867: (8, 6, 7), 868: (8, 6, 8), 869: (8, 6, 9), 870: (8, 7, 0), 871: (8, 7, 1), 872: (8, 7, 2), 873: (8, 7, 3), 874: (8, 7, 4), 875: (8, 7, 5), 876: (8, 7, 6), 877: (8, 7, 7), 878: (8, 7, 8), 879: (8, 7, 9), 880: (8, 8, 0), 881: (8, 8, 1), 882: (8, 8, 2), 883: (8, 8, 3), 884: (8, 8, 4), 885: (8, 8, 5), 886: (8, 8, 6), 887: (8, 8, 7), 888: (8, 8, 8), 889: (8, 8, 9), 890: (8, 9, 0), 891: (8, 9, 1), 892: (8, 9, 2), 893: (8, 9, 3), 894: (8, 9, 4), 895: (8, 9, 5), 896: (8, 9, 6), 897: (8, 9, 7), 898: (8, 9, 8), 899: (8, 9, 9), 900: (9, 0, 0), 901: (9, 0, 1), 902: (9, 0, 2), 903: (9, 0, 3), 904: (9, 0, 4), 905: (9, 0, 5), 906: (9, 0, 6), 907: (9, 0, 7), 908: (9, 0, 8), 909: (9, 0, 9), 910: (9, 1, 0), 911: (9, 1, 1), 912: (9, 1, 2), 913: (9, 1, 3), 914: (9, 1, 4), 915: (9, 1, 5), 916: (9, 1, 6), 917: (9, 1, 7), 918: (9, 1, 8), 919: (9, 1, 9), 920: (9, 2, 0), 921: (9, 2, 1), 922: (9, 2, 2), 923: (9, 2, 3), 924: (9, 2, 4), 925: (9, 2, 5), 926: (9, 2, 6), 927: (9, 2, 7), 928: (9, 2, 8), 929: (9, 2, 9), 930: (9, 3, 0), 931: (9, 3, 1), 932: (9, 3, 2), 933: (9, 3, 3), 934: (9, 3, 4), 935: (9, 3, 5), 936: (9, 3, 6), 937: (9, 3, 7), 938: (9, 3, 8), 939: (9, 3, 9), 940: (9, 4, 0), 941: (9, 4, 1), 942: (9, 4, 2), 943: (9, 4, 3), 944: (9, 4, 4), 945: (9, 4, 5), 946: (9, 4, 6), 947: (9, 4, 7), 948: (9, 4, 8), 949: (9, 4, 9), 950: (9, 5, 0), 951: (9, 5, 1), 952: (9, 5, 2), 953: (9, 5, 3), 954: (9, 5, 4), 955: (9, 5, 5), 956: (9, 5, 6), 957: (9, 5, 7), 958: (9, 5, 8), 959: (9, 5, 9), 960: (9, 6, 0), 961: (9, 6, 1), 962: (9, 6, 2), 963: (9, 6, 3), 964: (9, 6, 4), 965: (9, 6, 5), 966: (9, 6, 6), 967: (9, 6, 7), 968: (9, 6, 8), 969: (9, 6, 9), 970: (9, 7, 0), 971: (9, 7, 1), 972: (9, 7, 2), 973: (9, 7, 3), 974: (9, 7, 4), 975: (9, 7, 5), 976: (9, 7, 6), 977: (9, 7, 7), 978: (9, 7, 8), 979: (9, 7, 9), 980: (9, 8, 0), 981: (9, 8, 1), 982: (9, 8, 2), 983: (9, 8, 3), 984: (9, 8, 4), 985: (9, 8, 5), 986: (9, 8, 6), 987: (9, 8, 7), 988: (9, 8, 8), 989: (9, 8, 9), 990: (9, 9, 0), 991: (9, 9, 1), 992: (9, 9, 2), 993: (9, 9, 3), 994: (9, 9, 4), 995: (9, 9, 5), 996: (9, 9, 6), 997: (9, 9, 7), 998: (9, 9, 8), 999: (9, 9, 9)}\n"
          ],
          "name": "stdout"
        }
      ]
    },
    {
      "cell_type": "markdown",
      "metadata": {
        "id": "rnwlqm0ybGbB",
        "colab_type": "text"
      },
      "source": [
        "Task 25: Suppose id2salary is a dictionary that maps some employee IDs (a subset of the integers from\n",
        "0 to n − 1) to salaries. Suppose L is an n-element list whose i\n",
        "th element is the name of employee number i.\n",
        "Your goal is to write a comprehension whose value is a dictionary mapping employee names to salaries. You\n",
        "can assume that employee names are distinct.\n",
        "Test your comprehension with the following data:\n",
        "id2salary = {0:1000.0, 3:990, 1:1200.50}\n",
        "names = ['Larry', 'Curly', '', 'Moe']"
      ]
    },
    {
      "cell_type": "code",
      "metadata": {
        "id": "Mj7fq_bNda25",
        "colab_type": "code",
        "colab": {
          "base_uri": "https://localhost:8080/",
          "height": 35
        },
        "outputId": "58dde9b7-8537-4049-e95e-9c77e00cf580"
      },
      "source": [
        "id2salary = {0:1000.0, 3:990, 1:1200.50}\n",
        "names = ['Larry', 'Curly', '', 'Moe']\n",
        "name2salary = {names[i]:id2salary[i] for i in id2salary.keys()}\n",
        "print(f\"name to salary mapping {name2salary}\")\n",
        "               "
      ],
      "execution_count": 4,
      "outputs": [
        {
          "output_type": "stream",
          "text": [
            "name to salary mapping {'Larry': 1000.0, 'Moe': 990, 'Curly': 1200.5}\n"
          ],
          "name": "stdout"
        }
      ]
    },
    {
      "cell_type": "markdown",
      "metadata": {
        "id": "2CiGt9DvVgVV",
        "colab_type": "text"
      },
      "source": [
        "Task 26: Define a one-line procedure nextInts(L) specified as follows:\n",
        "• input: list L of integers\n",
        "• output: list of integers whose i\n",
        "th element is one more than the i\n",
        "th element of L\n",
        "• example: input [1, 5, 7], output [2, 6, 8]."
      ]
    },
    {
      "cell_type": "code",
      "metadata": {
        "id": "ro_T3RKXW5-w",
        "colab_type": "code",
        "colab": {
          "base_uri": "https://localhost:8080/",
          "height": 35
        },
        "outputId": "55628657-acc3-4265-8d94-4fe84fa8c909"
      },
      "source": [
        "def nextInts(L) : return [x +1 for x in L]\n",
        "print(f\"implementation of nextInt {nextInts([1, 5, 7])}\")"
      ],
      "execution_count": 7,
      "outputs": [
        {
          "output_type": "stream",
          "text": [
            "implementation of nextInt [2, 6, 8]\n"
          ],
          "name": "stdout"
        }
      ]
    },
    {
      "cell_type": "markdown",
      "metadata": {
        "id": "yJe2fyCqWlxd",
        "colab_type": "text"
      },
      "source": [
        "Task 27: Define a one-line procedure cubes(L) specified as follows:\n",
        "• input: list L of numbers\n",
        "• output: list of numbers whose i\n",
        "th element is the cube of the i\n",
        "th element of L\n",
        "• example: input [1, 2, 3], output [1, 8, 27]."
      ]
    },
    {
      "cell_type": "code",
      "metadata": {
        "id": "XgHFdXeOW36a",
        "colab_type": "code",
        "colab": {
          "base_uri": "https://localhost:8080/",
          "height": 35
        },
        "outputId": "86f1879a-3984-48a6-82fb-c2f174f31fdd"
      },
      "source": [
        "def cubes(L) : return [x**3 for x in L]\n",
        "print(f\"implementation of cubes {cubes([1, 2, 3])}\")"
      ],
      "execution_count": 8,
      "outputs": [
        {
          "output_type": "stream",
          "text": [
            "implementation of cubes [1, 8, 27]\n"
          ],
          "name": "stdout"
        }
      ]
    },
    {
      "cell_type": "markdown",
      "metadata": {
        "id": "bIJFRJrnWrSO",
        "colab_type": "text"
      },
      "source": [
        "\n",
        "Task 28: Define a one-line procedure dict2list(dct,keylist) with this spec:\n",
        "• input: dictionary dct, list keylist consisting of the keys of dct\n",
        "• output: list L such that L[i] = dct[keylist[i]] for i = 0, 1, 2, . . . , len(keylist) − 1\n",
        "• example: input dct={'a':'A', 'b':'B', 'c':'C'} and keylist=['b','c','a'],\n",
        "output ['B', 'C', 'A']"
      ]
    },
    {
      "cell_type": "code",
      "metadata": {
        "id": "eGtLcxKBZ1_u",
        "colab_type": "code",
        "colab": {
          "base_uri": "https://localhost:8080/",
          "height": 35
        },
        "outputId": "77859c47-e8c6-41a3-dacf-be34e8ab0778"
      },
      "source": [
        "def dict2list(dct, keylist) : return [dct[keylist[i]] for i in range(len(keylist))]\n",
        "print(f\"implementation of dict2list {dict2list({'a':'A', 'b':'B', 'c':'C'}, ['b','c','a']) }\")"
      ],
      "execution_count": 19,
      "outputs": [
        {
          "output_type": "stream",
          "text": [
            "implementation of cubes ['B', 'C', 'A']\n"
          ],
          "name": "stdout"
        }
      ]
    },
    {
      "cell_type": "markdown",
      "metadata": {
        "id": "08Igz1W1cwsa",
        "colab_type": "text"
      },
      "source": [
        "Task 29: Define a one-line procedure list2dict(L, keylist) specified as follows:\n",
        "• input: list L, list keylist of immutable items\n",
        "• output: dictionary that maps keylist[i] to L[i] for i = 0, 1, 2, . . . , len(L) − 1\n",
        "• example: input L=[’A’,’B’,’C’] and keylist=[’a’,’b’,’c’],\n",
        "output {'a':'A', 'b':'B', 'c':'C'}\n",
        "Hint: Use a comprehension that iterates over a zip or a range "
      ]
    },
    {
      "cell_type": "code",
      "metadata": {
        "id": "sL2SpWZzdvX5",
        "colab_type": "code",
        "colab": {
          "base_uri": "https://localhost:8080/",
          "height": 35
        },
        "outputId": "e3db74b0-248d-4c47-e680-1a218909b988"
      },
      "source": [
        "def list2dict(L, keylist) : return { x:y for (x,y) in zip(keylist , L)}\n",
        "print(f\"implementation of list2dict {list2dict(['A','B','C'] , ['a','b','c']) }\")"
      ],
      "execution_count": 25,
      "outputs": [
        {
          "output_type": "stream",
          "text": [
            "implementation of list2dict {'a': 'A', 'b': 'B', 'c': 'C'}\n"
          ],
          "name": "stdout"
        }
      ]
    }
  ]
}