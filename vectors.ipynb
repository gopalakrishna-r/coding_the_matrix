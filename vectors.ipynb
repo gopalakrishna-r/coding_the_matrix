{
  "nbformat": 4,
  "nbformat_minor": 0,
  "metadata": {
    "colab": {
      "name": "vectors.ipynb",
      "provenance": [],
      "collapsed_sections": [
        "n5VWEoH_r0fd",
        "tOMDJsNar9Km"
      ]
    },
    "kernelspec": {
      "name": "python3",
      "display_name": "Python 3"
    }
  },
  "cells": [
    {
      "cell_type": "markdown",
      "metadata": {
        "id": "n5VWEoH_r0fd",
        "colab_type": "text"
      },
      "source": [
        "# Scaling and vector addition\n"
      ]
    },
    {
      "cell_type": "code",
      "metadata": {
        "id": "14T71OqDnLTg",
        "colab_type": "code",
        "colab": {
          "base_uri": "https://localhost:8080/",
          "height": 0
        },
        "outputId": "74b48314-cfe0-45d6-ed66-0dfce126cb20"
      },
      "source": [
        "%cd drive/My Drive/learning/data_science/coding_the_matrix/resources/"
      ],
      "execution_count": 6,
      "outputs": [
        {
          "output_type": "stream",
          "text": [
            "[Errno 2] No such file or directory: 'drive/My Drive/learning/data_science/coding_the_matrix/resources/'\n",
            "/content\n"
          ],
          "name": "stdout"
        }
      ]
    },
    {
      "cell_type": "code",
      "metadata": {
        "id": "rl7ovrhlsSQr",
        "colab_type": "code",
        "colab": {}
      },
      "source": [
        "# Copyright 2013 Philip N. Klein\n",
        "\"\"\"\n",
        "This file contains a simple plotting interface, which uses an Iframe to\n",
        "present a plot of points represented as either complex numbers or 2-vectors.\n",
        "\"\"\"\n",
        "from numbers import Number\n",
        "from IPython.display import IFrame,HTML, display\n",
        "import tempfile\n",
        "import os\n",
        "import atexit\n",
        "from io import StringIO\n",
        "\n",
        "\n",
        "def plot(L, scale=4, dot_size = 3):\n",
        "    \"\"\" plot takes a list of points, optionally a scale (relative to a 200x200 frame),\n",
        "        optionally a dot size (diameter) in pixels.It produces a string with \n",
        "        SVG representing the given plot, and opens the file in an Iframe. It returns nothing.\n",
        "    \"\"\"\n",
        "    scalar = 200./scale\n",
        "    origin = (210, 210)\n",
        "    out_str = StringIO()\n",
        "    out_str.write(\n",
        "            \"\"\"<html>\n",
        "            <head>\n",
        "            <title>plot</title>\n",
        "            </head>\n",
        "            <body>\n",
        "            <svg height=\"450\" width=\"450\" xmlns=\"http://www.w3.org/2000/svg\">\\n'\n",
        "            <line x1=\"0\" y1=\"210\" x2=\"420\" y2=\"210\"\n",
        "            style=\"stroke:rgb(0,0,0);stroke-width:2\"/>\n",
        "            <line x1=\"210\" y1=\"0\" x2=\"210\" y2=\"420\"\n",
        "            style=\"stroke:rgb(0,0,0);stroke-width:2\"/>\"\"\")\n",
        "    parsedImgPts = list()\n",
        "    for pt in L:\n",
        "      if isinstance(pt, Number):\n",
        "        x,y = pt.real, pt.imag\n",
        "      else:\n",
        "          if isinstance(pt, tuple) or isinstance(pt, list):\n",
        "            x,y = pt\n",
        "          else:\n",
        "            raise ValueError\n",
        "      parsedImgPts.append((origin[0]+scalar*x, origin[1]-scalar*y)) \n",
        "    for (a, b) in parsedImgPts:       \n",
        "        out_str.write('<circle cx=\"%d\" cy=\"%d\" r=\"%d\" fill=\"red\"/>\\n'\n",
        "                          % (a,b , dot_size))\n",
        "    out_str.write(\"\"\"</svg>\\n</body>\\n</html>\"\"\")\n",
        "    display(HTML(out_str.getvalue()))\n",
        "    out_str.close()\n",
        "        "
      ],
      "execution_count": 7,
      "outputs": []
    },
    {
      "cell_type": "code",
      "metadata": {
        "id": "dDruBiaHZLA1",
        "colab_type": "code",
        "colab": {}
      },
      "source": [
        "def add(v,w):\n",
        "  return [v[0] + w[0], v[1] + w[1]]\n",
        "def addn(v,w):\n",
        "  return [v[i] + w[i] for i in range(len(v))]  \n"
      ],
      "execution_count": 8,
      "outputs": []
    },
    {
      "cell_type": "code",
      "metadata": {
        "id": "4L2clIpKCeE4",
        "colab_type": "code",
        "colab": {
          "base_uri": "https://localhost:8080/",
          "height": 0
        },
        "outputId": "79556775-a389-40e9-de81-9954d595b377"
      },
      "source": [
        "L = [(2,2), (3,2), (1.75,1), (2,1), (2.25,1), (2.5,1), (2.75,1), (3,1), (3.25,1)]\n",
        "plot(L)"
      ],
      "execution_count": 9,
      "outputs": [
        {
          "output_type": "display_data",
          "data": {
            "text/html": [
              "<html>\n",
              "            <head>\n",
              "            <title>plot</title>\n",
              "            </head>\n",
              "            <body>\n",
              "            <svg height=\"450\" width=\"450\" xmlns=\"http://www.w3.org/2000/svg\">\n",
              "'\n",
              "            <line x1=\"0\" y1=\"210\" x2=\"420\" y2=\"210\"\n",
              "            style=\"stroke:rgb(0,0,0);stroke-width:2\"/>\n",
              "            <line x1=\"210\" y1=\"0\" x2=\"210\" y2=\"420\"\n",
              "            style=\"stroke:rgb(0,0,0);stroke-width:2\"/><circle cx=\"310\" cy=\"110\" r=\"3\" fill=\"red\"/>\n",
              "<circle cx=\"360\" cy=\"110\" r=\"3\" fill=\"red\"/>\n",
              "<circle cx=\"297\" cy=\"160\" r=\"3\" fill=\"red\"/>\n",
              "<circle cx=\"310\" cy=\"160\" r=\"3\" fill=\"red\"/>\n",
              "<circle cx=\"322\" cy=\"160\" r=\"3\" fill=\"red\"/>\n",
              "<circle cx=\"335\" cy=\"160\" r=\"3\" fill=\"red\"/>\n",
              "<circle cx=\"347\" cy=\"160\" r=\"3\" fill=\"red\"/>\n",
              "<circle cx=\"360\" cy=\"160\" r=\"3\" fill=\"red\"/>\n",
              "<circle cx=\"372\" cy=\"160\" r=\"3\" fill=\"red\"/>\n",
              "</svg>\n",
              "</body>\n",
              "</html>"
            ],
            "text/plain": [
              "<IPython.core.display.HTML object>"
            ]
          },
          "metadata": {
            "tags": []
          }
        }
      ]
    },
    {
      "cell_type": "code",
      "metadata": {
        "id": "UUPpLcs_a7VV",
        "colab_type": "code",
        "colab": {}
      },
      "source": [
        "def scalar_vector_mult(alpha, v):\n",
        "  return [alpha * x for x in v]"
      ],
      "execution_count": 10,
      "outputs": []
    },
    {
      "cell_type": "code",
      "metadata": {
        "id": "OmL_GD1sb-Je",
        "colab_type": "code",
        "colab": {
          "base_uri": "https://localhost:8080/",
          "height": 0
        },
        "outputId": "6967aa72-aeb5-43d7-9bd0-cb47bed6d7d2"
      },
      "source": [
        "v = [3,2]\n",
        "plot([scalar_vector_mult(i/10,v) for i in range(11)], 5)"
      ],
      "execution_count": 11,
      "outputs": [
        {
          "output_type": "display_data",
          "data": {
            "text/html": [
              "<html>\n",
              "            <head>\n",
              "            <title>plot</title>\n",
              "            </head>\n",
              "            <body>\n",
              "            <svg height=\"450\" width=\"450\" xmlns=\"http://www.w3.org/2000/svg\">\n",
              "'\n",
              "            <line x1=\"0\" y1=\"210\" x2=\"420\" y2=\"210\"\n",
              "            style=\"stroke:rgb(0,0,0);stroke-width:2\"/>\n",
              "            <line x1=\"210\" y1=\"0\" x2=\"210\" y2=\"420\"\n",
              "            style=\"stroke:rgb(0,0,0);stroke-width:2\"/><circle cx=\"210\" cy=\"210\" r=\"3\" fill=\"red\"/>\n",
              "<circle cx=\"222\" cy=\"202\" r=\"3\" fill=\"red\"/>\n",
              "<circle cx=\"234\" cy=\"194\" r=\"3\" fill=\"red\"/>\n",
              "<circle cx=\"246\" cy=\"186\" r=\"3\" fill=\"red\"/>\n",
              "<circle cx=\"258\" cy=\"178\" r=\"3\" fill=\"red\"/>\n",
              "<circle cx=\"270\" cy=\"170\" r=\"3\" fill=\"red\"/>\n",
              "<circle cx=\"282\" cy=\"162\" r=\"3\" fill=\"red\"/>\n",
              "<circle cx=\"294\" cy=\"154\" r=\"3\" fill=\"red\"/>\n",
              "<circle cx=\"306\" cy=\"146\" r=\"3\" fill=\"red\"/>\n",
              "<circle cx=\"318\" cy=\"138\" r=\"3\" fill=\"red\"/>\n",
              "<circle cx=\"330\" cy=\"130\" r=\"3\" fill=\"red\"/>\n",
              "</svg>\n",
              "</body>\n",
              "</html>"
            ],
            "text/plain": [
              "<IPython.core.display.HTML object>"
            ]
          },
          "metadata": {
            "tags": []
          }
        }
      ]
    },
    {
      "cell_type": "code",
      "metadata": {
        "id": "9DbHHaI8dDFz",
        "colab_type": "code",
        "colab": {
          "base_uri": "https://localhost:8080/",
          "height": 0
        },
        "outputId": "607d354d-a231-4425-b145-3d3c75673034"
      },
      "source": [
        "plot([scalar_vector_mult(i/100,v) for i in range(100)] , 5)"
      ],
      "execution_count": 12,
      "outputs": [
        {
          "output_type": "display_data",
          "data": {
            "text/html": [
              "<html>\n",
              "            <head>\n",
              "            <title>plot</title>\n",
              "            </head>\n",
              "            <body>\n",
              "            <svg height=\"450\" width=\"450\" xmlns=\"http://www.w3.org/2000/svg\">\n",
              "'\n",
              "            <line x1=\"0\" y1=\"210\" x2=\"420\" y2=\"210\"\n",
              "            style=\"stroke:rgb(0,0,0);stroke-width:2\"/>\n",
              "            <line x1=\"210\" y1=\"0\" x2=\"210\" y2=\"420\"\n",
              "            style=\"stroke:rgb(0,0,0);stroke-width:2\"/><circle cx=\"210\" cy=\"210\" r=\"3\" fill=\"red\"/>\n",
              "<circle cx=\"211\" cy=\"209\" r=\"3\" fill=\"red\"/>\n",
              "<circle cx=\"212\" cy=\"208\" r=\"3\" fill=\"red\"/>\n",
              "<circle cx=\"213\" cy=\"207\" r=\"3\" fill=\"red\"/>\n",
              "<circle cx=\"214\" cy=\"206\" r=\"3\" fill=\"red\"/>\n",
              "<circle cx=\"216\" cy=\"206\" r=\"3\" fill=\"red\"/>\n",
              "<circle cx=\"217\" cy=\"205\" r=\"3\" fill=\"red\"/>\n",
              "<circle cx=\"218\" cy=\"204\" r=\"3\" fill=\"red\"/>\n",
              "<circle cx=\"219\" cy=\"203\" r=\"3\" fill=\"red\"/>\n",
              "<circle cx=\"220\" cy=\"202\" r=\"3\" fill=\"red\"/>\n",
              "<circle cx=\"222\" cy=\"202\" r=\"3\" fill=\"red\"/>\n",
              "<circle cx=\"223\" cy=\"201\" r=\"3\" fill=\"red\"/>\n",
              "<circle cx=\"224\" cy=\"200\" r=\"3\" fill=\"red\"/>\n",
              "<circle cx=\"225\" cy=\"199\" r=\"3\" fill=\"red\"/>\n",
              "<circle cx=\"226\" cy=\"198\" r=\"3\" fill=\"red\"/>\n",
              "<circle cx=\"228\" cy=\"198\" r=\"3\" fill=\"red\"/>\n",
              "<circle cx=\"229\" cy=\"197\" r=\"3\" fill=\"red\"/>\n",
              "<circle cx=\"230\" cy=\"196\" r=\"3\" fill=\"red\"/>\n",
              "<circle cx=\"231\" cy=\"195\" r=\"3\" fill=\"red\"/>\n",
              "<circle cx=\"232\" cy=\"194\" r=\"3\" fill=\"red\"/>\n",
              "<circle cx=\"234\" cy=\"194\" r=\"3\" fill=\"red\"/>\n",
              "<circle cx=\"235\" cy=\"193\" r=\"3\" fill=\"red\"/>\n",
              "<circle cx=\"236\" cy=\"192\" r=\"3\" fill=\"red\"/>\n",
              "<circle cx=\"237\" cy=\"191\" r=\"3\" fill=\"red\"/>\n",
              "<circle cx=\"238\" cy=\"190\" r=\"3\" fill=\"red\"/>\n",
              "<circle cx=\"240\" cy=\"190\" r=\"3\" fill=\"red\"/>\n",
              "<circle cx=\"241\" cy=\"189\" r=\"3\" fill=\"red\"/>\n",
              "<circle cx=\"242\" cy=\"188\" r=\"3\" fill=\"red\"/>\n",
              "<circle cx=\"243\" cy=\"187\" r=\"3\" fill=\"red\"/>\n",
              "<circle cx=\"244\" cy=\"186\" r=\"3\" fill=\"red\"/>\n",
              "<circle cx=\"246\" cy=\"186\" r=\"3\" fill=\"red\"/>\n",
              "<circle cx=\"247\" cy=\"185\" r=\"3\" fill=\"red\"/>\n",
              "<circle cx=\"248\" cy=\"184\" r=\"3\" fill=\"red\"/>\n",
              "<circle cx=\"249\" cy=\"183\" r=\"3\" fill=\"red\"/>\n",
              "<circle cx=\"250\" cy=\"182\" r=\"3\" fill=\"red\"/>\n",
              "<circle cx=\"252\" cy=\"182\" r=\"3\" fill=\"red\"/>\n",
              "<circle cx=\"253\" cy=\"181\" r=\"3\" fill=\"red\"/>\n",
              "<circle cx=\"254\" cy=\"180\" r=\"3\" fill=\"red\"/>\n",
              "<circle cx=\"255\" cy=\"179\" r=\"3\" fill=\"red\"/>\n",
              "<circle cx=\"256\" cy=\"178\" r=\"3\" fill=\"red\"/>\n",
              "<circle cx=\"258\" cy=\"178\" r=\"3\" fill=\"red\"/>\n",
              "<circle cx=\"259\" cy=\"177\" r=\"3\" fill=\"red\"/>\n",
              "<circle cx=\"260\" cy=\"176\" r=\"3\" fill=\"red\"/>\n",
              "<circle cx=\"261\" cy=\"175\" r=\"3\" fill=\"red\"/>\n",
              "<circle cx=\"262\" cy=\"174\" r=\"3\" fill=\"red\"/>\n",
              "<circle cx=\"264\" cy=\"174\" r=\"3\" fill=\"red\"/>\n",
              "<circle cx=\"265\" cy=\"173\" r=\"3\" fill=\"red\"/>\n",
              "<circle cx=\"266\" cy=\"172\" r=\"3\" fill=\"red\"/>\n",
              "<circle cx=\"267\" cy=\"171\" r=\"3\" fill=\"red\"/>\n",
              "<circle cx=\"268\" cy=\"170\" r=\"3\" fill=\"red\"/>\n",
              "<circle cx=\"270\" cy=\"170\" r=\"3\" fill=\"red\"/>\n",
              "<circle cx=\"271\" cy=\"169\" r=\"3\" fill=\"red\"/>\n",
              "<circle cx=\"272\" cy=\"168\" r=\"3\" fill=\"red\"/>\n",
              "<circle cx=\"273\" cy=\"167\" r=\"3\" fill=\"red\"/>\n",
              "<circle cx=\"274\" cy=\"166\" r=\"3\" fill=\"red\"/>\n",
              "<circle cx=\"276\" cy=\"166\" r=\"3\" fill=\"red\"/>\n",
              "<circle cx=\"277\" cy=\"165\" r=\"3\" fill=\"red\"/>\n",
              "<circle cx=\"278\" cy=\"164\" r=\"3\" fill=\"red\"/>\n",
              "<circle cx=\"279\" cy=\"163\" r=\"3\" fill=\"red\"/>\n",
              "<circle cx=\"280\" cy=\"162\" r=\"3\" fill=\"red\"/>\n",
              "<circle cx=\"282\" cy=\"162\" r=\"3\" fill=\"red\"/>\n",
              "<circle cx=\"283\" cy=\"161\" r=\"3\" fill=\"red\"/>\n",
              "<circle cx=\"284\" cy=\"160\" r=\"3\" fill=\"red\"/>\n",
              "<circle cx=\"285\" cy=\"159\" r=\"3\" fill=\"red\"/>\n",
              "<circle cx=\"286\" cy=\"158\" r=\"3\" fill=\"red\"/>\n",
              "<circle cx=\"288\" cy=\"158\" r=\"3\" fill=\"red\"/>\n",
              "<circle cx=\"289\" cy=\"157\" r=\"3\" fill=\"red\"/>\n",
              "<circle cx=\"290\" cy=\"156\" r=\"3\" fill=\"red\"/>\n",
              "<circle cx=\"291\" cy=\"155\" r=\"3\" fill=\"red\"/>\n",
              "<circle cx=\"292\" cy=\"154\" r=\"3\" fill=\"red\"/>\n",
              "<circle cx=\"294\" cy=\"154\" r=\"3\" fill=\"red\"/>\n",
              "<circle cx=\"295\" cy=\"153\" r=\"3\" fill=\"red\"/>\n",
              "<circle cx=\"296\" cy=\"152\" r=\"3\" fill=\"red\"/>\n",
              "<circle cx=\"297\" cy=\"151\" r=\"3\" fill=\"red\"/>\n",
              "<circle cx=\"298\" cy=\"150\" r=\"3\" fill=\"red\"/>\n",
              "<circle cx=\"300\" cy=\"150\" r=\"3\" fill=\"red\"/>\n",
              "<circle cx=\"301\" cy=\"149\" r=\"3\" fill=\"red\"/>\n",
              "<circle cx=\"302\" cy=\"148\" r=\"3\" fill=\"red\"/>\n",
              "<circle cx=\"303\" cy=\"147\" r=\"3\" fill=\"red\"/>\n",
              "<circle cx=\"304\" cy=\"146\" r=\"3\" fill=\"red\"/>\n",
              "<circle cx=\"306\" cy=\"146\" r=\"3\" fill=\"red\"/>\n",
              "<circle cx=\"307\" cy=\"145\" r=\"3\" fill=\"red\"/>\n",
              "<circle cx=\"308\" cy=\"144\" r=\"3\" fill=\"red\"/>\n",
              "<circle cx=\"309\" cy=\"143\" r=\"3\" fill=\"red\"/>\n",
              "<circle cx=\"310\" cy=\"142\" r=\"3\" fill=\"red\"/>\n",
              "<circle cx=\"312\" cy=\"142\" r=\"3\" fill=\"red\"/>\n",
              "<circle cx=\"313\" cy=\"141\" r=\"3\" fill=\"red\"/>\n",
              "<circle cx=\"314\" cy=\"140\" r=\"3\" fill=\"red\"/>\n",
              "<circle cx=\"315\" cy=\"139\" r=\"3\" fill=\"red\"/>\n",
              "<circle cx=\"316\" cy=\"138\" r=\"3\" fill=\"red\"/>\n",
              "<circle cx=\"318\" cy=\"138\" r=\"3\" fill=\"red\"/>\n",
              "<circle cx=\"319\" cy=\"137\" r=\"3\" fill=\"red\"/>\n",
              "<circle cx=\"320\" cy=\"136\" r=\"3\" fill=\"red\"/>\n",
              "<circle cx=\"321\" cy=\"135\" r=\"3\" fill=\"red\"/>\n",
              "<circle cx=\"322\" cy=\"134\" r=\"3\" fill=\"red\"/>\n",
              "<circle cx=\"324\" cy=\"134\" r=\"3\" fill=\"red\"/>\n",
              "<circle cx=\"325\" cy=\"133\" r=\"3\" fill=\"red\"/>\n",
              "<circle cx=\"326\" cy=\"132\" r=\"3\" fill=\"red\"/>\n",
              "<circle cx=\"327\" cy=\"131\" r=\"3\" fill=\"red\"/>\n",
              "<circle cx=\"328\" cy=\"130\" r=\"3\" fill=\"red\"/>\n",
              "</svg>\n",
              "</body>\n",
              "</html>"
            ],
            "text/plain": [
              "<IPython.core.display.HTML object>"
            ]
          },
          "metadata": {
            "tags": []
          }
        }
      ]
    },
    {
      "cell_type": "markdown",
      "metadata": {
        "id": "tOMDJsNar9Km",
        "colab_type": "text"
      },
      "source": [
        "# Dictionary representaion"
      ]
    },
    {
      "cell_type": "markdown",
      "metadata": {
        "id": "cE1s216Y3PH4",
        "colab_type": "text"
      },
      "source": [
        ""
      ]
    },
    {
      "cell_type": "code",
      "metadata": {
        "id": "bzVsXcGKsYoT",
        "colab_type": "code",
        "colab": {}
      },
      "source": [
        "\"\"\"setter operator\"\"\"\n",
        "def setitems(v, d, val): v.f[d] = val\n",
        "\n",
        "\"\"\"\n",
        "getter\n",
        "procedure getitem(v, d) with below spec\n",
        "input: an instance of v of Vec. and an element d of the set v.D\n",
        "output: the value of entry d of v\"\"\"\n",
        "def getitems(v , d): return v.f[d] if d in v.f else 0\n",
        "\n",
        "\"\"\"\"\n",
        "procedure zero_vec(D) with the following spec:\n",
        "input: set D\n",
        "output: an instance of Vec representing a D-vector all of whose entries have value zero \n",
        "\"\"\"\n",
        "def zero_vec(D): {d:0 for d in D }\n",
        "\n",
        "\"\"\"equal operator overloading\"\"\"\n",
        "def equal(u , v ):\n",
        "  \"compares the right hand element to the left hand element\"\n",
        "  assert u.D == v.D\n",
        "  return all(getitems(u,key) == getitems(v,key) for key in v.f)\n",
        "\n",
        "\"\"\"add operator overloading\"\"\"\n",
        "def add(u,v):\n",
        "  assert u.D == v.D\n",
        "  s=u.copy()\n",
        "  for k in u.D:\n",
        "    setitems(s,k,getitems(u,k)+getitems(v,k)) \n",
        "  return s\n",
        "\n",
        "\"\"\"dot operation\"\"\"\n",
        "def dot(u,v):\n",
        "  assert u.D == v.D\n",
        "  s=0\n",
        "  for k in u.D:\n",
        "    s+= getitems(u,k)*getitems(v,k)\n",
        "  return s\n",
        "\n",
        "\"\"\"negative operation\"\"\"\n",
        "def neg(v):\n",
        "    u=v.copy()\n",
        "    for k in v.D:\n",
        "        setitems(u,k, -1*getitems(v,k))\n",
        "    return u\n",
        "\n",
        "\"\"\"scalar multiplication\"\"\"   \n",
        "def scalar_mul(v, alpha):\n",
        "    u=v.copy()\n",
        "    for k in v.D:\n",
        "      setitems(u,k, alpha*getitems(v,k)) \n",
        "    return u\n",
        "\n",
        "class Vec:\n",
        "    def __init__(self, labels, function):\n",
        "        self.D = labels\n",
        "        self.f = function\n",
        "\n",
        "    __getitem__ = getitems\n",
        "    __setitem__ = setitems\n",
        "    __neg__ = neg\n",
        "    __rmul__ = scalar_mul \n",
        "\n",
        "    def __mul__(self,other):\n",
        "      if isinstance(other, Vec):\n",
        "          return dot(self,other)\n",
        "      else:\n",
        "          return NotImplemented \n",
        "\n",
        "    __add__ = add\n",
        "\n",
        "    def __radd__(self, other):\n",
        "        \"Hack to allow sum(...) to work with vectors\"\n",
        "        if other == 0:\n",
        "            return self\n",
        "\n",
        "    def __sub__(a,b):\n",
        "        return a+(-b)\n",
        "\n",
        "    __eq__ = equal\n",
        "\n",
        "    def __hash__(self):\n",
        "        h = hash(frozenset(self.D))\n",
        "        for k,v in sorted(self.f.items(), key = lambda x:repr(x[0])):\n",
        "            if v != 0:\n",
        "                h = hash((h, hash(v)))\n",
        "        return h\n",
        "\n",
        "    def __repr__(self):\n",
        "        return \"Vec(\" + self.D + \",\" + self.f + \")\"\n",
        "\n",
        "    def copy(self):\n",
        "        return Vec(self.D, self.f.copy())"
      ],
      "execution_count": 13,
      "outputs": []
    },
    {
      "cell_type": "markdown",
      "metadata": {
        "id": "jjEvhdOZpbto",
        "colab_type": "text"
      },
      "source": [
        "procedure list2vec(L)\n",
        "input: a list L of field elements\n",
        "output: an instance of V of Vec with domain {0,1,2...len(L) - 1} such that v[i] = L[i] for each integer i in the domain"
      ]
    },
    {
      "cell_type": "code",
      "metadata": {
        "id": "Icy-unU8piNJ",
        "colab_type": "code",
        "colab": {}
      },
      "source": [
        "def list2vec(L: list)-> Vec:\n",
        "  return (Vec(set(rangelen((L)))), {k:x for k,x in enumerate(L)})"
      ],
      "execution_count": 14,
      "outputs": []
    },
    {
      "cell_type": "markdown",
      "metadata": {
        "id": "lLcuQGU6q2U_",
        "colab_type": "text"
      },
      "source": [
        "assertions"
      ]
    },
    {
      "cell_type": "code",
      "metadata": {
        "id": "U_HNqIM2pZHZ",
        "colab_type": "code",
        "colab": {}
      },
      "source": [
        "v = Vec({'a','b','c', 'd'},{'a':2,'c':1,'d':3})\n",
        "assert v['d'] == 3\n",
        "assert v['b'] == 0"
      ],
      "execution_count": 15,
      "outputs": []
    },
    {
      "cell_type": "code",
      "metadata": {
        "id": "lxVpRSJYpwep",
        "colab_type": "code",
        "colab": {}
      },
      "source": [
        "v = Vec({'a', 'b', 'c'}, {'b':0})\n",
        "v['b'] = 5\n",
        "assert v['b'] == 5\n",
        "v['a'] = 1\n",
        "assert v['a'] == 1\n",
        "v['a'] = 0\n",
        "assert v['a'] == 0"
      ],
      "execution_count": 16,
      "outputs": []
    },
    {
      "cell_type": "code",
      "metadata": {
        "id": "FVVBgEXlqMw8",
        "colab_type": "code",
        "colab": {}
      },
      "source": [
        "assert Vec({'a', 'b', 'c'}, {'a':0}) == Vec({'a', 'b', 'c'}, {'b':0})\n",
        "assert Vec({'a', 'b', 'c'}, {'a': 0}) == Vec({'a', 'b', 'c'}, {})\n",
        "assert Vec({'a', 'b', 'c'}, {}) == Vec({'a', 'b', 'c'}, {'a': 0})"
      ],
      "execution_count": 17,
      "outputs": []
    },
    {
      "cell_type": "code",
      "metadata": {
        "id": "TdurmUi8r6c4",
        "colab_type": "code",
        "colab": {}
      },
      "source": [
        "a = Vec({'a','e','i','o','u'}, {'a':0,'e':1,'i':2})\n",
        "b = Vec({'a','e','i','o','u'}, {'o':4,'u':7})\n",
        "c = Vec({'a','e','i','o','u'}, {'a':0,'e':1,'i':2,'o':4,'u':7})\n",
        "assert a + b == c\n",
        "\n",
        "a == Vec({'a','e','i','o','u'}, {'a':0,'e':1,'i':2})\n",
        "b == Vec({'a','e','i','o','u'}, {'o':4,'u':7})\n",
        "d = Vec({'x','y','z'}, {'x':2,'y':1})\n",
        "e = Vec({'x','y','z'}, {'z':4,'y':-1})\n",
        "f = Vec({'x','y','z'}, {'x':2,'y':0,'z':4})\n",
        "assert d + e == f\n",
        "  \n",
        "d == Vec({'x','y','z'}, {'x':2,'y':1})\n",
        "e == Vec({'x','y','z'}, {'z':4,'y':-1})\n",
        "assert b + Vec({'a','e','i','o','u'}, {}) == b\n"
      ],
      "execution_count": 18,
      "outputs": []
    },
    {
      "cell_type": "code",
      "metadata": {
        "id": "G8BT3qKWb1Ya",
        "colab_type": "code",
        "colab": {}
      },
      "source": [
        "u1 = Vec({'a','b'}, {'a':1, 'b':2})\n",
        "u2 = Vec({'a','b'}, {'b':2, 'a':1})\n",
        "assert u1*u2 == 5\n",
        "\n",
        "assert u1 == Vec({'a','b'}, {'a':1, 'b':2})\n",
        "assert u2 == Vec({'a','b'}, {'b':2, 'a':1})\n",
        "\n",
        "v1 = Vec({'p','q','r','s'}, {'p':2,'s':3,'q':-1,'r':0})\n",
        "v2 = Vec({'p','q','r','s'}, {'p':-2,'r':5})\n",
        "assert v1*v2 == -4\n",
        "    \n",
        "w1 = Vec({'a','b','c'}, {'a':2,'b':3,'c':4})\n",
        "w2 = Vec({'a','b','c'}, {'a':12,'b':8,'c':6})\n",
        "assert  w1*w2 == 72\n",
        "\n",
        "\"\"\"\n",
        "The pairwise products should not be collected in a set before summing\n",
        "    because a set eliminates duplicates\n",
        "\"\"\"\n",
        "v1 = Vec({1, 2}, {1 : 3, 2 : 6})\n",
        "v2 = Vec({1, 2}, {1 : 2, 2 : 1})\n",
        "assert v1 * v2 == 12"
      ],
      "execution_count": 19,
      "outputs": []
    },
    {
      "cell_type": "code",
      "metadata": {
        "id": "rFa8IUudtnfv",
        "colab_type": "code",
        "colab": {}
      },
      "source": [
        "zero = Vec({'x','y','z','w'}, {})\n",
        "u = Vec({'x','y','z','w'},{'x':1,'y':2,'z':3,'w':4})\n",
        "assert 0*u == zero\n",
        "\n",
        "assert 1*u == u\n",
        "assert 0.5*u == Vec({'x','y','z','w'},{'x':0.5,'y':1,'z':1.5,'w':2})\n",
        "assert u == Vec({'x','y','z','w'},{'x':1,'y':2,'z':3,'w':4})\n"
      ],
      "execution_count": 20,
      "outputs": []
    },
    {
      "cell_type": "code",
      "metadata": {
        "id": "snCZ_-EHuKRF",
        "colab_type": "code",
        "colab": {}
      },
      "source": [
        "u = Vec({1,3,5,7},{1:1,3:2,5:3,7:4})\n",
        "assert -u == Vec({1, 3, 5, 7},{1: -1, 3: -2, 5: -3, 7: -4})\n",
        "assert u == Vec({1,3,5,7},{1:1,3:2,5:3,7:4})\n",
        "assert -Vec({'a','b','c'}, {'a':1}) == Vec({'a','b','c'}, {'a':-1})"
      ],
      "execution_count": 21,
      "outputs": []
    },
    {
      "cell_type": "markdown",
      "metadata": {
        "id": "70QoOTCF5dhJ",
        "colab_type": "text"
      },
      "source": [
        "# dot product"
      ]
    },
    {
      "cell_type": "markdown",
      "metadata": {
        "id": "VOlcDGnX5zKd",
        "colab_type": "text"
      },
      "source": [
        "procedure list.dot(u, v)  with spec\n",
        "input: equal length lists u and v of field elements\n",
        "output: the dot product of u and v interpreted as vectors"
      ]
    },
    {
      "cell_type": "code",
      "metadata": {
        "id": "HLxqYI9m5iny",
        "colab_type": "code",
        "colab": {}
      },
      "source": [
        "def list_dot(u, v): return sum(u[i] * v[i] for i in range(len(u)))"
      ],
      "execution_count": 22,
      "outputs": []
    },
    {
      "cell_type": "markdown",
      "metadata": {
        "id": "j8sBxwSvNTER",
        "colab_type": "text"
      },
      "source": [
        "# solving triangular equations"
      ]
    },
    {
      "cell_type": "code",
      "metadata": {
        "id": "jZz14lTyNaIv",
        "colab_type": "code",
        "colab": {}
      },
      "source": [
        "def triangular_solve(rowlist , b):\n",
        "  x = zero_vec(rowlist[0].D)\n",
        "  for i in reversed(range(len(rowlist))):\n",
        "    x[i] = (b[i - rowslist[i] * b])/ rowlist[i][i]\n",
        "  return x"
      ],
      "execution_count": 25,
      "outputs": []
    }
  ]
}