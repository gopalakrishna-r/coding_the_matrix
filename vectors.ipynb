{
  "nbformat": 4,
  "nbformat_minor": 0,
  "metadata": {
    "colab": {
      "name": "vectors.ipynb",
      "provenance": [],
      "collapsed_sections": []
    },
    "kernelspec": {
      "name": "python3",
      "display_name": "Python 3"
    }
  },
  "cells": [
    {
      "cell_type": "code",
      "metadata": {
        "id": "14T71OqDnLTg",
        "colab_type": "code",
        "colab": {
          "base_uri": "https://localhost:8080/",
          "height": 72
        },
        "outputId": "80dfe57c-3c32-4bf1-e7e5-6d883a50c8e2"
      },
      "source": [
        "%cd drive/My Drive/learning/data_science/coding_the_matrix/resources/"
      ],
      "execution_count": null,
      "outputs": [
        {
          "output_type": "stream",
          "text": [
            "[Errno 2] No such file or directory: 'drive/My Drive/learning/data_science/coding_the_matrix/resources/'\n",
            "/content/drive/My Drive/learning/data_science/coding_the_matrix/resources\n"
          ],
          "name": "stdout"
        }
      ]
    },
    {
      "cell_type": "code",
      "metadata": {
        "id": "rl7ovrhlsSQr",
        "colab_type": "code",
        "colab": {}
      },
      "source": [
        "# Copyright 2013 Philip N. Klein\n",
        "\"\"\"\n",
        "This file contains a simple plotting interface, which uses an Iframe to\n",
        "present a plot of points represented as either complex numbers or 2-vectors.\n",
        "\"\"\"\n",
        "from numbers import Number\n",
        "from IPython.display import IFrame,HTML, display\n",
        "import tempfile\n",
        "import os\n",
        "import atexit\n",
        "from io import StringIO\n",
        "\n",
        "\n",
        "def plot(L, scale=4, dot_size = 3):\n",
        "    \"\"\" plot takes a list of points, optionally a scale (relative to a 200x200 frame),\n",
        "        optionally a dot size (diameter) in pixels.It produces a string with \n",
        "        SVG representing the given plot, and opens the file in an Iframe. It returns nothing.\n",
        "    \"\"\"\n",
        "    scalar = 200./scale\n",
        "    origin = (210, 210)\n",
        "    out_str = StringIO()\n",
        "    out_str.write(\n",
        "            \"\"\"<html>\n",
        "            <head>\n",
        "            <title>plot</title>\n",
        "            </head>\n",
        "            <body>\n",
        "            <svg height=\"1000\" width=\"1000\" xmlns=\"http://www.w3.org/2000/svg\">\\n'\n",
        "            <line x1=\"0\" y1=\"210\" x2=\"420\" y2=\"210\"\n",
        "            style=\"stroke:rgb(0,0,0);stroke-width:2\"/>\n",
        "            <line x1=\"210\" y1=\"0\" x2=\"210\" y2=\"420\"\n",
        "            style=\"stroke:rgb(0,0,0);stroke-width:2\"/>\"\"\")\n",
        "    parsedImgPts = list()\n",
        "    for pt in L:\n",
        "      if isinstance(pt, Number):\n",
        "        x,y = pt.real, pt.imag\n",
        "      else:\n",
        "          if isinstance(pt, tuple) or isinstance(pt, list):\n",
        "            x,y = pt\n",
        "          else:\n",
        "            raise ValueError\n",
        "      parsedImgPts.append((origin[0]+scalar*x, origin[1]-scalar*y)) \n",
        "    for (a, b) in parsedImgPts:       \n",
        "        out_str.write('<circle cx=\"%d\" cy=\"%d\" r=\"%d\" fill=\"red\"/>\\n'\n",
        "                          % (a,b , dot_size))\n",
        "    out_str.write(\"\"\"</svg>\\n</body>\\n</html>\"\"\")\n",
        "    display(HTML(out_str.getvalue()))\n",
        "    out_str.close()\n",
        "        "
      ],
      "execution_count": null,
      "outputs": []
    },
    {
      "cell_type": "code",
      "metadata": {
        "id": "4L2clIpKCeE4",
        "colab_type": "code",
        "colab": {
          "base_uri": "https://localhost:8080/",
          "height": 1000
        },
        "outputId": "0e10477e-f52e-4964-8c3f-f01a57ff9cb0"
      },
      "source": [
        "L = [(2,2), (3,2), (1.75,1), (2,1), (2.25,1), (2.5,1), (2.75,1), (3,1), (3.25,1)]\n",
        "plot(L)"
      ],
      "execution_count": null,
      "outputs": [
        {
          "output_type": "display_data",
          "data": {
            "text/html": [
              "<html>\n",
              "            <head>\n",
              "            <title>plot</title>\n",
              "            </head>\n",
              "            <body>\n",
              "            <svg height=\"1000\" width=\"1000\" xmlns=\"http://www.w3.org/2000/svg\">\n",
              "'\n",
              "            <line x1=\"0\" y1=\"210\" x2=\"420\" y2=\"210\"\n",
              "            style=\"stroke:rgb(0,0,0);stroke-width:2\"/>\n",
              "            <line x1=\"210\" y1=\"0\" x2=\"210\" y2=\"420\"\n",
              "            style=\"stroke:rgb(0,0,0);stroke-width:2\"/><circle cx=\"310\" cy=\"110\" r=\"3\" fill=\"red\"/>\n",
              "<circle cx=\"360\" cy=\"110\" r=\"3\" fill=\"red\"/>\n",
              "<circle cx=\"297\" cy=\"160\" r=\"3\" fill=\"red\"/>\n",
              "<circle cx=\"310\" cy=\"160\" r=\"3\" fill=\"red\"/>\n",
              "<circle cx=\"322\" cy=\"160\" r=\"3\" fill=\"red\"/>\n",
              "<circle cx=\"335\" cy=\"160\" r=\"3\" fill=\"red\"/>\n",
              "<circle cx=\"347\" cy=\"160\" r=\"3\" fill=\"red\"/>\n",
              "<circle cx=\"360\" cy=\"160\" r=\"3\" fill=\"red\"/>\n",
              "<circle cx=\"372\" cy=\"160\" r=\"3\" fill=\"red\"/>\n",
              "</svg>\n",
              "</body>\n",
              "</html>"
            ],
            "text/plain": [
              "<IPython.core.display.HTML object>"
            ]
          },
          "metadata": {
            "tags": []
          }
        }
      ]
    },
    {
      "cell_type": "code",
      "metadata": {
        "id": "1LKpX9895UjN",
        "colab_type": "code",
        "colab": {
          "base_uri": "https://localhost:8080/",
          "height": 1000
        },
        "outputId": "4a905c31-c649-4f3c-d17d-7a8a3303cfff"
      },
      "source": [
        "from numbers import Number\n",
        "from IPython.display import IFrame,HTML, display\n",
        "display(HTML(\"\"\"<html>\n",
        "            <head>\n",
        "            <title>plot</title>\n",
        "            </head>\n",
        "            <body>\n",
        "            <svg height=\"1000\" width=\"1000\" xmlns=\"http://www.w3.org/2000/svg\">\n",
        "            <line x1=\"0\" y1=\"210\" x2=\"420\" y2=\"210\"\n",
        "            style=\"stroke:rgb(0,0,0);stroke-width:2\"/>\n",
        "            <line x1=\"210\" y1=\"0\" x2=\"210\" y2=\"420\"\n",
        "            style=\"stroke:rgb(0,0,0);stroke-width:2\"/><circle cx=\"347\" cy=\"160\" r=\"4\" fill=\"red\"/>\n",
        "<circle cx=\"360\" cy=\"110\" r=\"4\" fill=\"red\"/>\n",
        "<circle cx=\"297\" cy=\"160\" r=\"4\" fill=\"red\"/>\n",
        "<circle cx=\"360\" cy=\"160\" r=\"4\" fill=\"red\"/>\n",
        "<circle cx=\"335\" cy=\"160\" r=\"4\" fill=\"red\"/>\n",
        "<circle cx=\"310\" cy=\"110\" r=\"4\" fill=\"red\"/>\n",
        "<circle cx=\"372\" cy=\"160\" r=\"4\" fill=\"red\"/>\n",
        "<circle cx=\"322\" cy=\"160\" r=\"4\" fill=\"red\"/>\n",
        "<circle cx=\"310\" cy=\"160\" r=\"4\" fill=\"red\"/>\n",
        "</svg>\n",
        "</body>\n",
        "</html>\"\"\"))"
      ],
      "execution_count": null,
      "outputs": [
        {
          "output_type": "display_data",
          "data": {
            "text/html": [
              "<html>\n",
              "            <head>\n",
              "            <title>plot</title>\n",
              "            </head>\n",
              "            <body>\n",
              "            <svg height=\"1000\" width=\"1000\" xmlns=\"http://www.w3.org/2000/svg\">\n",
              "            <line x1=\"0\" y1=\"210\" x2=\"420\" y2=\"210\"\n",
              "            style=\"stroke:rgb(0,0,0);stroke-width:2\"/>\n",
              "            <line x1=\"210\" y1=\"0\" x2=\"210\" y2=\"420\"\n",
              "            style=\"stroke:rgb(0,0,0);stroke-width:2\"/><circle cx=\"347\" cy=\"160\" r=\"4\" fill=\"red\"/>\n",
              "<circle cx=\"360\" cy=\"110\" r=\"4\" fill=\"red\"/>\n",
              "<circle cx=\"297\" cy=\"160\" r=\"4\" fill=\"red\"/>\n",
              "<circle cx=\"360\" cy=\"160\" r=\"4\" fill=\"red\"/>\n",
              "<circle cx=\"335\" cy=\"160\" r=\"4\" fill=\"red\"/>\n",
              "<circle cx=\"310\" cy=\"110\" r=\"4\" fill=\"red\"/>\n",
              "<circle cx=\"372\" cy=\"160\" r=\"4\" fill=\"red\"/>\n",
              "<circle cx=\"322\" cy=\"160\" r=\"4\" fill=\"red\"/>\n",
              "<circle cx=\"310\" cy=\"160\" r=\"4\" fill=\"red\"/>\n",
              "</svg>\n",
              "</body>\n",
              "</html>"
            ],
            "text/plain": [
              "<IPython.core.display.HTML object>"
            ]
          },
          "metadata": {
            "tags": []
          }
        }
      ]
    },
    {
      "cell_type": "code",
      "metadata": {
        "id": "xRUBZvJP5VKI",
        "colab_type": "code",
        "colab": {}
      },
      "source": [
        ""
      ],
      "execution_count": null,
      "outputs": []
    }
  ]
}