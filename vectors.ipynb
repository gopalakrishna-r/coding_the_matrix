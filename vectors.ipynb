{
  "nbformat": 4,
  "nbformat_minor": 0,
  "metadata": {
    "colab": {
      "name": "vectors.ipynb",
      "provenance": [],
      "collapsed_sections": []
    },
    "kernelspec": {
      "name": "python3",
      "display_name": "Python 3"
    }
  },
  "cells": [
    {
      "cell_type": "code",
      "metadata": {
        "id": "14T71OqDnLTg",
        "colab_type": "code",
        "colab": {
          "base_uri": "https://localhost:8080/",
          "height": 72
        },
        "outputId": "5cabc0f9-72ee-4be5-df7e-57ce67ffcaa7"
      },
      "source": [
        "%cd drive/My Drive/learning/data_science/coding_the_matrix/resources/"
      ],
      "execution_count": null,
      "outputs": [
        {
          "output_type": "stream",
          "text": [
            "[Errno 2] No such file or directory: 'drive/My Drive/learning/data_science/coding_the_matrix/resources/'\n",
            "/content\n"
          ],
          "name": "stdout"
        }
      ]
    },
    {
      "cell_type": "code",
      "metadata": {
        "id": "rl7ovrhlsSQr",
        "colab_type": "code",
        "colab": {}
      },
      "source": [
        "# Copyright 2013 Philip N. Klein\n",
        "\"\"\"\n",
        "This file contains a simple plotting interface, which uses an Iframe to\n",
        "present a plot of points represented as either complex numbers or 2-vectors.\n",
        "\"\"\"\n",
        "from numbers import Number\n",
        "from IPython.display import IFrame,HTML, display\n",
        "import tempfile\n",
        "import os\n",
        "import atexit\n",
        "from io import StringIO\n",
        "\n",
        "\n",
        "def plot(L, scale=4, dot_size = 3):\n",
        "    \"\"\" plot takes a list of points, optionally a scale (relative to a 200x200 frame),\n",
        "        optionally a dot size (diameter) in pixels.It produces a string with \n",
        "        SVG representing the given plot, and opens the file in an Iframe. It returns nothing.\n",
        "    \"\"\"\n",
        "    scalar = 200./scale\n",
        "    origin = (210, 210)\n",
        "    out_str = StringIO()\n",
        "    out_str.write(\n",
        "            \"\"\"<html>\n",
        "            <head>\n",
        "            <title>plot</title>\n",
        "            </head>\n",
        "            <body>\n",
        "            <svg height=\"450\" width=\"450\" xmlns=\"http://www.w3.org/2000/svg\">\\n'\n",
        "            <line x1=\"0\" y1=\"210\" x2=\"420\" y2=\"210\"\n",
        "            style=\"stroke:rgb(0,0,0);stroke-width:2\"/>\n",
        "            <line x1=\"210\" y1=\"0\" x2=\"210\" y2=\"420\"\n",
        "            style=\"stroke:rgb(0,0,0);stroke-width:2\"/>\"\"\")\n",
        "    parsedImgPts = list()\n",
        "    for pt in L:\n",
        "      if isinstance(pt, Number):\n",
        "        x,y = pt.real, pt.imag\n",
        "      else:\n",
        "          if isinstance(pt, tuple) or isinstance(pt, list):\n",
        "            x,y = pt\n",
        "          else:\n",
        "            raise ValueError\n",
        "      parsedImgPts.append((origin[0]+scalar*x, origin[1]-scalar*y)) \n",
        "    for (a, b) in parsedImgPts:       \n",
        "        out_str.write('<circle cx=\"%d\" cy=\"%d\" r=\"%d\" fill=\"red\"/>\\n'\n",
        "                          % (a,b , dot_size))\n",
        "    out_str.write(\"\"\"</svg>\\n</body>\\n</html>\"\"\")\n",
        "    display(HTML(out_str.getvalue()))\n",
        "    out_str.close()\n",
        "        "
      ],
      "execution_count": null,
      "outputs": []
    },
    {
      "cell_type": "code",
      "metadata": {
        "id": "4L2clIpKCeE4",
        "colab_type": "code",
        "colab": {
          "base_uri": "https://localhost:8080/",
          "height": 472
        },
        "outputId": "fadb4054-b42e-4edd-a7c0-49bb3bf30d00"
      },
      "source": [
        "L = [(2,2), (3,2), (1.75,1), (2,1), (2.25,1), (2.5,1), (2.75,1), (3,1), (3.25,1)]\n",
        "plot(L)"
      ],
      "execution_count": null,
      "outputs": [
        {
          "output_type": "display_data",
          "data": {
            "text/html": [
              "<html>\n",
              "            <head>\n",
              "            <title>plot</title>\n",
              "            </head>\n",
              "            <body>\n",
              "            <svg height=\"450\" width=\"450\" xmlns=\"http://www.w3.org/2000/svg\">\n",
              "'\n",
              "            <line x1=\"0\" y1=\"210\" x2=\"420\" y2=\"210\"\n",
              "            style=\"stroke:rgb(0,0,0);stroke-width:2\"/>\n",
              "            <line x1=\"210\" y1=\"0\" x2=\"210\" y2=\"420\"\n",
              "            style=\"stroke:rgb(0,0,0);stroke-width:2\"/><circle cx=\"310\" cy=\"110\" r=\"3\" fill=\"red\"/>\n",
              "<circle cx=\"360\" cy=\"110\" r=\"3\" fill=\"red\"/>\n",
              "<circle cx=\"297\" cy=\"160\" r=\"3\" fill=\"red\"/>\n",
              "<circle cx=\"310\" cy=\"160\" r=\"3\" fill=\"red\"/>\n",
              "<circle cx=\"322\" cy=\"160\" r=\"3\" fill=\"red\"/>\n",
              "<circle cx=\"335\" cy=\"160\" r=\"3\" fill=\"red\"/>\n",
              "<circle cx=\"347\" cy=\"160\" r=\"3\" fill=\"red\"/>\n",
              "<circle cx=\"360\" cy=\"160\" r=\"3\" fill=\"red\"/>\n",
              "<circle cx=\"372\" cy=\"160\" r=\"3\" fill=\"red\"/>\n",
              "</svg>\n",
              "</body>\n",
              "</html>"
            ],
            "text/plain": [
              "<IPython.core.display.HTML object>"
            ]
          },
          "metadata": {
            "tags": []
          }
        }
      ]
    },
    {
      "cell_type": "code",
      "metadata": {
        "id": "dDruBiaHZLA1",
        "colab_type": "code",
        "colab": {}
      },
      "source": [
        "def add(v,w):\n",
        "  return [v[0] + w[0], v[1] + w[1]]\n",
        "def addn(v,w):\n",
        "  return [v[i] + w[i] for i in range(len(v))]  \n"
      ],
      "execution_count": null,
      "outputs": []
    },
    {
      "cell_type": "markdown",
      "metadata": {
        "id": "EpFX4mXQb2md",
        "colab_type": "text"
      },
      "source": [
        "scalar vector multliplication"
      ]
    },
    {
      "cell_type": "code",
      "metadata": {
        "id": "UUPpLcs_a7VV",
        "colab_type": "code",
        "colab": {}
      },
      "source": [
        "def scalar_vector_mult(alpha, v):\n",
        "  return [alpha * x for x in v]"
      ],
      "execution_count": null,
      "outputs": []
    },
    {
      "cell_type": "code",
      "metadata": {
        "id": "OmL_GD1sb-Je",
        "colab_type": "code",
        "colab": {
          "base_uri": "https://localhost:8080/",
          "height": 472
        },
        "outputId": "68a0409a-d99a-48e2-aa7e-1d99e2f431e8"
      },
      "source": [
        "v = [3,2]\n",
        "plot([scalar_vector_mult(i/10,v) for i in range(11)], 5)"
      ],
      "execution_count": null,
      "outputs": [
        {
          "output_type": "display_data",
          "data": {
            "text/html": [
              "<html>\n",
              "            <head>\n",
              "            <title>plot</title>\n",
              "            </head>\n",
              "            <body>\n",
              "            <svg height=\"450\" width=\"450\" xmlns=\"http://www.w3.org/2000/svg\">\n",
              "'\n",
              "            <line x1=\"0\" y1=\"210\" x2=\"420\" y2=\"210\"\n",
              "            style=\"stroke:rgb(0,0,0);stroke-width:2\"/>\n",
              "            <line x1=\"210\" y1=\"0\" x2=\"210\" y2=\"420\"\n",
              "            style=\"stroke:rgb(0,0,0);stroke-width:2\"/><circle cx=\"210\" cy=\"210\" r=\"3\" fill=\"red\"/>\n",
              "<circle cx=\"222\" cy=\"202\" r=\"3\" fill=\"red\"/>\n",
              "<circle cx=\"234\" cy=\"194\" r=\"3\" fill=\"red\"/>\n",
              "<circle cx=\"246\" cy=\"186\" r=\"3\" fill=\"red\"/>\n",
              "<circle cx=\"258\" cy=\"178\" r=\"3\" fill=\"red\"/>\n",
              "<circle cx=\"270\" cy=\"170\" r=\"3\" fill=\"red\"/>\n",
              "<circle cx=\"282\" cy=\"162\" r=\"3\" fill=\"red\"/>\n",
              "<circle cx=\"294\" cy=\"154\" r=\"3\" fill=\"red\"/>\n",
              "<circle cx=\"306\" cy=\"146\" r=\"3\" fill=\"red\"/>\n",
              "<circle cx=\"318\" cy=\"138\" r=\"3\" fill=\"red\"/>\n",
              "<circle cx=\"330\" cy=\"130\" r=\"3\" fill=\"red\"/>\n",
              "</svg>\n",
              "</body>\n",
              "</html>"
            ],
            "text/plain": [
              "<IPython.core.display.HTML object>"
            ]
          },
          "metadata": {
            "tags": []
          }
        }
      ]
    },
    {
      "cell_type": "code",
      "metadata": {
        "id": "9DbHHaI8dDFz",
        "colab_type": "code",
        "colab": {
          "base_uri": "https://localhost:8080/",
          "height": 472
        },
        "outputId": "3f97df67-7868-4d4d-83c6-7d286ddf2b02"
      },
      "source": [
        "plot([scalar_vector_mult(i/100,v) for i in range(100)] , 5)"
      ],
      "execution_count": null,
      "outputs": [
        {
          "output_type": "display_data",
          "data": {
            "text/html": [
              "<html>\n",
              "            <head>\n",
              "            <title>plot</title>\n",
              "            </head>\n",
              "            <body>\n",
              "            <svg height=\"450\" width=\"450\" xmlns=\"http://www.w3.org/2000/svg\">\n",
              "'\n",
              "            <line x1=\"0\" y1=\"210\" x2=\"420\" y2=\"210\"\n",
              "            style=\"stroke:rgb(0,0,0);stroke-width:2\"/>\n",
              "            <line x1=\"210\" y1=\"0\" x2=\"210\" y2=\"420\"\n",
              "            style=\"stroke:rgb(0,0,0);stroke-width:2\"/><circle cx=\"210\" cy=\"210\" r=\"3\" fill=\"red\"/>\n",
              "<circle cx=\"211\" cy=\"209\" r=\"3\" fill=\"red\"/>\n",
              "<circle cx=\"212\" cy=\"208\" r=\"3\" fill=\"red\"/>\n",
              "<circle cx=\"213\" cy=\"207\" r=\"3\" fill=\"red\"/>\n",
              "<circle cx=\"214\" cy=\"206\" r=\"3\" fill=\"red\"/>\n",
              "<circle cx=\"216\" cy=\"206\" r=\"3\" fill=\"red\"/>\n",
              "<circle cx=\"217\" cy=\"205\" r=\"3\" fill=\"red\"/>\n",
              "<circle cx=\"218\" cy=\"204\" r=\"3\" fill=\"red\"/>\n",
              "<circle cx=\"219\" cy=\"203\" r=\"3\" fill=\"red\"/>\n",
              "<circle cx=\"220\" cy=\"202\" r=\"3\" fill=\"red\"/>\n",
              "<circle cx=\"222\" cy=\"202\" r=\"3\" fill=\"red\"/>\n",
              "<circle cx=\"223\" cy=\"201\" r=\"3\" fill=\"red\"/>\n",
              "<circle cx=\"224\" cy=\"200\" r=\"3\" fill=\"red\"/>\n",
              "<circle cx=\"225\" cy=\"199\" r=\"3\" fill=\"red\"/>\n",
              "<circle cx=\"226\" cy=\"198\" r=\"3\" fill=\"red\"/>\n",
              "<circle cx=\"228\" cy=\"198\" r=\"3\" fill=\"red\"/>\n",
              "<circle cx=\"229\" cy=\"197\" r=\"3\" fill=\"red\"/>\n",
              "<circle cx=\"230\" cy=\"196\" r=\"3\" fill=\"red\"/>\n",
              "<circle cx=\"231\" cy=\"195\" r=\"3\" fill=\"red\"/>\n",
              "<circle cx=\"232\" cy=\"194\" r=\"3\" fill=\"red\"/>\n",
              "<circle cx=\"234\" cy=\"194\" r=\"3\" fill=\"red\"/>\n",
              "<circle cx=\"235\" cy=\"193\" r=\"3\" fill=\"red\"/>\n",
              "<circle cx=\"236\" cy=\"192\" r=\"3\" fill=\"red\"/>\n",
              "<circle cx=\"237\" cy=\"191\" r=\"3\" fill=\"red\"/>\n",
              "<circle cx=\"238\" cy=\"190\" r=\"3\" fill=\"red\"/>\n",
              "<circle cx=\"240\" cy=\"190\" r=\"3\" fill=\"red\"/>\n",
              "<circle cx=\"241\" cy=\"189\" r=\"3\" fill=\"red\"/>\n",
              "<circle cx=\"242\" cy=\"188\" r=\"3\" fill=\"red\"/>\n",
              "<circle cx=\"243\" cy=\"187\" r=\"3\" fill=\"red\"/>\n",
              "<circle cx=\"244\" cy=\"186\" r=\"3\" fill=\"red\"/>\n",
              "<circle cx=\"246\" cy=\"186\" r=\"3\" fill=\"red\"/>\n",
              "<circle cx=\"247\" cy=\"185\" r=\"3\" fill=\"red\"/>\n",
              "<circle cx=\"248\" cy=\"184\" r=\"3\" fill=\"red\"/>\n",
              "<circle cx=\"249\" cy=\"183\" r=\"3\" fill=\"red\"/>\n",
              "<circle cx=\"250\" cy=\"182\" r=\"3\" fill=\"red\"/>\n",
              "<circle cx=\"252\" cy=\"182\" r=\"3\" fill=\"red\"/>\n",
              "<circle cx=\"253\" cy=\"181\" r=\"3\" fill=\"red\"/>\n",
              "<circle cx=\"254\" cy=\"180\" r=\"3\" fill=\"red\"/>\n",
              "<circle cx=\"255\" cy=\"179\" r=\"3\" fill=\"red\"/>\n",
              "<circle cx=\"256\" cy=\"178\" r=\"3\" fill=\"red\"/>\n",
              "<circle cx=\"258\" cy=\"178\" r=\"3\" fill=\"red\"/>\n",
              "<circle cx=\"259\" cy=\"177\" r=\"3\" fill=\"red\"/>\n",
              "<circle cx=\"260\" cy=\"176\" r=\"3\" fill=\"red\"/>\n",
              "<circle cx=\"261\" cy=\"175\" r=\"3\" fill=\"red\"/>\n",
              "<circle cx=\"262\" cy=\"174\" r=\"3\" fill=\"red\"/>\n",
              "<circle cx=\"264\" cy=\"174\" r=\"3\" fill=\"red\"/>\n",
              "<circle cx=\"265\" cy=\"173\" r=\"3\" fill=\"red\"/>\n",
              "<circle cx=\"266\" cy=\"172\" r=\"3\" fill=\"red\"/>\n",
              "<circle cx=\"267\" cy=\"171\" r=\"3\" fill=\"red\"/>\n",
              "<circle cx=\"268\" cy=\"170\" r=\"3\" fill=\"red\"/>\n",
              "<circle cx=\"270\" cy=\"170\" r=\"3\" fill=\"red\"/>\n",
              "<circle cx=\"271\" cy=\"169\" r=\"3\" fill=\"red\"/>\n",
              "<circle cx=\"272\" cy=\"168\" r=\"3\" fill=\"red\"/>\n",
              "<circle cx=\"273\" cy=\"167\" r=\"3\" fill=\"red\"/>\n",
              "<circle cx=\"274\" cy=\"166\" r=\"3\" fill=\"red\"/>\n",
              "<circle cx=\"276\" cy=\"166\" r=\"3\" fill=\"red\"/>\n",
              "<circle cx=\"277\" cy=\"165\" r=\"3\" fill=\"red\"/>\n",
              "<circle cx=\"278\" cy=\"164\" r=\"3\" fill=\"red\"/>\n",
              "<circle cx=\"279\" cy=\"163\" r=\"3\" fill=\"red\"/>\n",
              "<circle cx=\"280\" cy=\"162\" r=\"3\" fill=\"red\"/>\n",
              "<circle cx=\"282\" cy=\"162\" r=\"3\" fill=\"red\"/>\n",
              "<circle cx=\"283\" cy=\"161\" r=\"3\" fill=\"red\"/>\n",
              "<circle cx=\"284\" cy=\"160\" r=\"3\" fill=\"red\"/>\n",
              "<circle cx=\"285\" cy=\"159\" r=\"3\" fill=\"red\"/>\n",
              "<circle cx=\"286\" cy=\"158\" r=\"3\" fill=\"red\"/>\n",
              "<circle cx=\"288\" cy=\"158\" r=\"3\" fill=\"red\"/>\n",
              "<circle cx=\"289\" cy=\"157\" r=\"3\" fill=\"red\"/>\n",
              "<circle cx=\"290\" cy=\"156\" r=\"3\" fill=\"red\"/>\n",
              "<circle cx=\"291\" cy=\"155\" r=\"3\" fill=\"red\"/>\n",
              "<circle cx=\"292\" cy=\"154\" r=\"3\" fill=\"red\"/>\n",
              "<circle cx=\"294\" cy=\"154\" r=\"3\" fill=\"red\"/>\n",
              "<circle cx=\"295\" cy=\"153\" r=\"3\" fill=\"red\"/>\n",
              "<circle cx=\"296\" cy=\"152\" r=\"3\" fill=\"red\"/>\n",
              "<circle cx=\"297\" cy=\"151\" r=\"3\" fill=\"red\"/>\n",
              "<circle cx=\"298\" cy=\"150\" r=\"3\" fill=\"red\"/>\n",
              "<circle cx=\"300\" cy=\"150\" r=\"3\" fill=\"red\"/>\n",
              "<circle cx=\"301\" cy=\"149\" r=\"3\" fill=\"red\"/>\n",
              "<circle cx=\"302\" cy=\"148\" r=\"3\" fill=\"red\"/>\n",
              "<circle cx=\"303\" cy=\"147\" r=\"3\" fill=\"red\"/>\n",
              "<circle cx=\"304\" cy=\"146\" r=\"3\" fill=\"red\"/>\n",
              "<circle cx=\"306\" cy=\"146\" r=\"3\" fill=\"red\"/>\n",
              "<circle cx=\"307\" cy=\"145\" r=\"3\" fill=\"red\"/>\n",
              "<circle cx=\"308\" cy=\"144\" r=\"3\" fill=\"red\"/>\n",
              "<circle cx=\"309\" cy=\"143\" r=\"3\" fill=\"red\"/>\n",
              "<circle cx=\"310\" cy=\"142\" r=\"3\" fill=\"red\"/>\n",
              "<circle cx=\"312\" cy=\"142\" r=\"3\" fill=\"red\"/>\n",
              "<circle cx=\"313\" cy=\"141\" r=\"3\" fill=\"red\"/>\n",
              "<circle cx=\"314\" cy=\"140\" r=\"3\" fill=\"red\"/>\n",
              "<circle cx=\"315\" cy=\"139\" r=\"3\" fill=\"red\"/>\n",
              "<circle cx=\"316\" cy=\"138\" r=\"3\" fill=\"red\"/>\n",
              "<circle cx=\"318\" cy=\"138\" r=\"3\" fill=\"red\"/>\n",
              "<circle cx=\"319\" cy=\"137\" r=\"3\" fill=\"red\"/>\n",
              "<circle cx=\"320\" cy=\"136\" r=\"3\" fill=\"red\"/>\n",
              "<circle cx=\"321\" cy=\"135\" r=\"3\" fill=\"red\"/>\n",
              "<circle cx=\"322\" cy=\"134\" r=\"3\" fill=\"red\"/>\n",
              "<circle cx=\"324\" cy=\"134\" r=\"3\" fill=\"red\"/>\n",
              "<circle cx=\"325\" cy=\"133\" r=\"3\" fill=\"red\"/>\n",
              "<circle cx=\"326\" cy=\"132\" r=\"3\" fill=\"red\"/>\n",
              "<circle cx=\"327\" cy=\"131\" r=\"3\" fill=\"red\"/>\n",
              "<circle cx=\"328\" cy=\"130\" r=\"3\" fill=\"red\"/>\n",
              "</svg>\n",
              "</body>\n",
              "</html>"
            ],
            "text/plain": [
              "<IPython.core.display.HTML object>"
            ]
          },
          "metadata": {
            "tags": []
          }
        }
      ]
    }
  ]
}