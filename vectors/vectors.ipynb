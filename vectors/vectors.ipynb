{
 "cells": [
  {
   "cell_type": "markdown",
   "metadata": {
    "colab_type": "text",
    "id": "n5VWEoH_r0fd"
   },
   "source": [
    "# Scaling and vector addition\n"
   ]
  },
  {
   "cell_type": "code",
   "execution_count": 1,
   "metadata": {
    "colab": {
     "base_uri": "https://localhost:8080/",
     "height": 0
    },
    "colab_type": "code",
    "id": "14T71OqDnLTg",
    "outputId": "74b48314-cfe0-45d6-ed66-0dfce126cb20"
   },
   "outputs": [],
   "source": [
    "import sys  \n",
    "sys.path.insert(0, '../functions')\n",
    "\n",
    "import image,plotting,png"
   ]
  },
  {
   "cell_type": "code",
   "execution_count": 2,
   "metadata": {
    "colab": {},
    "colab_type": "code",
    "id": "rl7ovrhlsSQr"
   },
   "outputs": [],
   "source": [
    "# Copyright 2013 Philip N. Klein\n",
    "\"\"\"\n",
    "This file contains a simple plotting interface, which uses an Iframe to\n",
    "present a plot of points represented as either complex numbers or 2-vectors.\n",
    "\"\"\"\n",
    "from numbers import Number\n",
    "from IPython.display import IFrame,HTML, display\n",
    "import tempfile\n",
    "import os\n",
    "import atexit\n",
    "from io import StringIO\n",
    "\n",
    "\n",
    "def plot(L, scale=4, dot_size = 3):\n",
    "    \"\"\" plot takes a list of points, optionally a scale (relative to a 200x200 frame),\n",
    "        optionally a dot size (diameter) in pixels.It produces a string with \n",
    "        SVG representing the given plot, and opens the file in an Iframe. It returns nothing.\n",
    "    \"\"\"\n",
    "    scalar = 200./scale\n",
    "    origin = (210, 210)\n",
    "    out_str = StringIO()\n",
    "    out_str.write(\n",
    "            \"\"\"<html>\n",
    "            <head>\n",
    "            <title>plot</title>\n",
    "            </head>\n",
    "            <body>\n",
    "            <svg height=\"450\" width=\"450\" xmlns=\"http://www.w3.org/2000/svg\">\\n'\n",
    "            <line x1=\"0\" y1=\"210\" x2=\"420\" y2=\"210\"\n",
    "            style=\"stroke:rgb(0,0,0);stroke-width:2\"/>\n",
    "            <line x1=\"210\" y1=\"0\" x2=\"210\" y2=\"420\"\n",
    "            style=\"stroke:rgb(0,0,0);stroke-width:2\"/>\"\"\")\n",
    "    parsedImgPts = list()\n",
    "    for pt in L:\n",
    "      if isinstance(pt, Number):\n",
    "        x,y = pt.real, pt.imag\n",
    "      else:\n",
    "          if isinstance(pt, tuple) or isinstance(pt, list):\n",
    "            x,y = pt\n",
    "          else:\n",
    "            raise ValueError\n",
    "      parsedImgPts.append((origin[0]+scalar*x, origin[1]-scalar*y)) \n",
    "    for (a, b) in parsedImgPts:       \n",
    "        out_str.write('<circle cx=\"%d\" cy=\"%d\" r=\"%d\" fill=\"red\"/>\\n'\n",
    "                          % (a,b , dot_size))\n",
    "    out_str.write(\"\"\"</svg>\\n</body>\\n</html>\"\"\")\n",
    "    display(HTML(out_str.getvalue()))\n",
    "    out_str.close()\n",
    "        "
   ]
  },
  {
   "cell_type": "code",
   "execution_count": 3,
   "metadata": {
    "colab": {
     "base_uri": "https://localhost:8080/",
     "height": 0
    },
    "colab_type": "code",
    "id": "4L2clIpKCeE4",
    "outputId": "79556775-a389-40e9-de81-9954d595b377"
   },
   "outputs": [
    {
     "data": {
      "text/html": [
       "<html>\n",
       "            <head>\n",
       "            <title>plot</title>\n",
       "            </head>\n",
       "            <body>\n",
       "            <svg height=\"450\" width=\"450\" xmlns=\"http://www.w3.org/2000/svg\">\n",
       "'\n",
       "            <line x1=\"0\" y1=\"210\" x2=\"420\" y2=\"210\"\n",
       "            style=\"stroke:rgb(0,0,0);stroke-width:2\"/>\n",
       "            <line x1=\"210\" y1=\"0\" x2=\"210\" y2=\"420\"\n",
       "            style=\"stroke:rgb(0,0,0);stroke-width:2\"/><circle cx=\"310\" cy=\"110\" r=\"3\" fill=\"red\"/>\n",
       "<circle cx=\"360\" cy=\"110\" r=\"3\" fill=\"red\"/>\n",
       "<circle cx=\"297\" cy=\"160\" r=\"3\" fill=\"red\"/>\n",
       "<circle cx=\"310\" cy=\"160\" r=\"3\" fill=\"red\"/>\n",
       "<circle cx=\"322\" cy=\"160\" r=\"3\" fill=\"red\"/>\n",
       "<circle cx=\"335\" cy=\"160\" r=\"3\" fill=\"red\"/>\n",
       "<circle cx=\"347\" cy=\"160\" r=\"3\" fill=\"red\"/>\n",
       "<circle cx=\"360\" cy=\"160\" r=\"3\" fill=\"red\"/>\n",
       "<circle cx=\"372\" cy=\"160\" r=\"3\" fill=\"red\"/>\n",
       "</svg>\n",
       "</body>\n",
       "</html>"
      ],
      "text/plain": [
       "<IPython.core.display.HTML object>"
      ]
     },
     "metadata": {},
     "output_type": "display_data"
    }
   ],
   "source": [
    "L = [(2,2), (3,2), (1.75,1), (2,1), (2.25,1), (2.5,1), (2.75,1), (3,1), (3.25,1)]\n",
    "plot(L)"
   ]
  },
  {
   "cell_type": "code",
   "execution_count": 4,
   "metadata": {
    "colab": {
     "base_uri": "https://localhost:8080/",
     "height": 0
    },
    "colab_type": "code",
    "id": "OmL_GD1sb-Je",
    "outputId": "6967aa72-aeb5-43d7-9bd0-cb47bed6d7d2"
   },
   "outputs": [
    {
     "ename": "NameError",
     "evalue": "name 'scalar_vector_mult' is not defined",
     "output_type": "error",
     "traceback": [
      "\u001b[1;31m---------------------------------------------------------------------------\u001b[0m",
      "\u001b[1;31mNameError\u001b[0m                                 Traceback (most recent call last)",
      "\u001b[1;32m<ipython-input-4-8fa0678d6887>\u001b[0m in \u001b[0;36m<module>\u001b[1;34m\u001b[0m\n\u001b[0;32m      1\u001b[0m \u001b[0mv\u001b[0m \u001b[1;33m=\u001b[0m \u001b[1;33m[\u001b[0m\u001b[1;36m3\u001b[0m\u001b[1;33m,\u001b[0m\u001b[1;36m2\u001b[0m\u001b[1;33m]\u001b[0m\u001b[1;33m\u001b[0m\u001b[1;33m\u001b[0m\u001b[0m\n\u001b[1;32m----> 2\u001b[1;33m \u001b[0mplot\u001b[0m\u001b[1;33m(\u001b[0m\u001b[1;33m[\u001b[0m\u001b[0mscalar_vector_mult\u001b[0m\u001b[1;33m(\u001b[0m\u001b[0mi\u001b[0m\u001b[1;33m/\u001b[0m\u001b[1;36m10\u001b[0m\u001b[1;33m,\u001b[0m\u001b[0mv\u001b[0m\u001b[1;33m)\u001b[0m \u001b[1;32mfor\u001b[0m \u001b[0mi\u001b[0m \u001b[1;32min\u001b[0m \u001b[0mrange\u001b[0m\u001b[1;33m(\u001b[0m\u001b[1;36m11\u001b[0m\u001b[1;33m)\u001b[0m\u001b[1;33m]\u001b[0m\u001b[1;33m,\u001b[0m \u001b[1;36m5\u001b[0m\u001b[1;33m)\u001b[0m\u001b[1;33m\u001b[0m\u001b[1;33m\u001b[0m\u001b[0m\n\u001b[0m",
      "\u001b[1;32m<ipython-input-4-8fa0678d6887>\u001b[0m in \u001b[0;36m<listcomp>\u001b[1;34m(.0)\u001b[0m\n\u001b[0;32m      1\u001b[0m \u001b[0mv\u001b[0m \u001b[1;33m=\u001b[0m \u001b[1;33m[\u001b[0m\u001b[1;36m3\u001b[0m\u001b[1;33m,\u001b[0m\u001b[1;36m2\u001b[0m\u001b[1;33m]\u001b[0m\u001b[1;33m\u001b[0m\u001b[1;33m\u001b[0m\u001b[0m\n\u001b[1;32m----> 2\u001b[1;33m \u001b[0mplot\u001b[0m\u001b[1;33m(\u001b[0m\u001b[1;33m[\u001b[0m\u001b[0mscalar_vector_mult\u001b[0m\u001b[1;33m(\u001b[0m\u001b[0mi\u001b[0m\u001b[1;33m/\u001b[0m\u001b[1;36m10\u001b[0m\u001b[1;33m,\u001b[0m\u001b[0mv\u001b[0m\u001b[1;33m)\u001b[0m \u001b[1;32mfor\u001b[0m \u001b[0mi\u001b[0m \u001b[1;32min\u001b[0m \u001b[0mrange\u001b[0m\u001b[1;33m(\u001b[0m\u001b[1;36m11\u001b[0m\u001b[1;33m)\u001b[0m\u001b[1;33m]\u001b[0m\u001b[1;33m,\u001b[0m \u001b[1;36m5\u001b[0m\u001b[1;33m)\u001b[0m\u001b[1;33m\u001b[0m\u001b[1;33m\u001b[0m\u001b[0m\n\u001b[0m",
      "\u001b[1;31mNameError\u001b[0m: name 'scalar_vector_mult' is not defined"
     ]
    }
   ],
   "source": [
    "v = [3,2]\n",
    "plot([scalar_vector_mult(i/10,v) for i in range(11)], 5)"
   ]
  },
  {
   "cell_type": "code",
   "execution_count": null,
   "metadata": {
    "colab": {
     "base_uri": "https://localhost:8080/",
     "height": 0
    },
    "colab_type": "code",
    "id": "9DbHHaI8dDFz",
    "outputId": "607d354d-a231-4425-b145-3d3c75673034"
   },
   "outputs": [],
   "source": [
    "plot([scalar_vector_mult(i/100,v) for i in range(100)] , 5)"
   ]
  },
  {
   "cell_type": "markdown",
   "metadata": {
    "colab_type": "text",
    "id": "tOMDJsNar9Km"
   },
   "source": [
    "# Dictionary representaion"
   ]
  },
  {
   "cell_type": "markdown",
   "metadata": {
    "colab_type": "text",
    "id": "cE1s216Y3PH4"
   },
   "source": []
  },
  {
   "cell_type": "code",
   "execution_count": null,
   "metadata": {
    "colab": {},
    "colab_type": "code",
    "id": "bzVsXcGKsYoT"
   },
   "outputs": [],
   "source": [
    "\"\"\"setter operator\"\"\"\n",
    "def setitems(v, d, val): v.f[d] = val\n",
    "\n",
    "\"\"\"\n",
    "getter\n",
    "procedure getitem(v, d) with below spec\n",
    "input: an instance of v of Vec. and an element d of the set v.D\n",
    "output: the value of entry d of v\"\"\"\n",
    "def getitems(v , d): return v.f[d] if d in v.f else 0\n",
    "\n",
    "\"\"\"\"\n",
    "procedure zero_vec(D) with the following spec:\n",
    "input: set D\n",
    "output: an instance of Vec representing a D-vector all of whose entries have value zero \n",
    "\"\"\"\n",
    "def zero_vec(D): {d:0 for d in D }\n",
    "\n",
    "\"\"\"equal operator overloading\"\"\"\n",
    "def equal(u , v ):\n",
    "  \"compares the right hand element to the left hand element\"\n",
    "  assert u.D == v.D\n",
    "  return all(getitems(u,key) == getitems(v,key) for key in v.f)\n",
    "\n",
    "\"\"\"add operator overloading\"\"\"\n",
    "def add(u,v):\n",
    "  assert u.D == v.D\n",
    "  s=u.copy()\n",
    "  for k in u.D:\n",
    "    setitems(s,k,getitems(u,k)+getitems(v,k)) \n",
    "  return s\n",
    "\n",
    "\"\"\"dot operation\"\"\"\n",
    "def dot(u,v):\n",
    "  assert u.D == v.D\n",
    "  s=0\n",
    "  for k in u.D:\n",
    "    s+= getitems(u,k)*getitems(v,k)\n",
    "  return s\n",
    "\n",
    "\"\"\"negative operation\"\"\"\n",
    "def neg(v):\n",
    "    u=v.copy()\n",
    "    for k in v.D:\n",
    "        setitems(u,k, -1*getitems(v,k))\n",
    "    return u\n",
    "\n",
    "\"\"\"scalar multiplication\"\"\"   \n",
    "def scalar_mul(v, alpha):\n",
    "    u=v.copy()\n",
    "    for k in v.D:\n",
    "      setitems(u,k, alpha*getitems(v,k)) \n",
    "    return u\n",
    "\n",
    "class Vec:\n",
    "    def __init__(self, labels, function):\n",
    "        self.D = labels\n",
    "        self.f = function\n",
    "\n",
    "    __getitem__ = getitems\n",
    "    __setitem__ = setitems\n",
    "    __neg__ = neg\n",
    "    __rmul__ = scalar_mul \n",
    "\n",
    "    def __mul__(self,other):\n",
    "      if isinstance(other, Vec):\n",
    "          return dot(self,other)\n",
    "      else:\n",
    "          return NotImplemented \n",
    "\n",
    "    __add__ = add\n",
    "\n",
    "    def __radd__(self, other):\n",
    "        \"Hack to allow sum(...) to work with vectors\"\n",
    "        if other == 0:\n",
    "            return self\n",
    "\n",
    "    def __sub__(a,b):\n",
    "        return a+(-b)\n",
    "\n",
    "    __eq__ = equal\n",
    "\n",
    "    def __hash__(self):\n",
    "        h = hash(frozenset(self.D))\n",
    "        for k,v in sorted(self.f.items(), key = lambda x:repr(x[0])):\n",
    "            if v != 0:\n",
    "                h = hash((h, hash(v)))\n",
    "        return h\n",
    "\n",
    "    def __repr__(self):\n",
    "        return \"Vec(\" + self.D + \",\" + self.f + \")\"\n",
    "\n",
    "    def copy(self):\n",
    "        return Vec(self.D, self.f.copy())"
   ]
  },
  {
   "cell_type": "markdown",
   "metadata": {
    "colab_type": "text",
    "id": "jjEvhdOZpbto"
   },
   "source": [
    "procedure list2vec(L)\n",
    "input: a list L of field elements\n",
    "output: an instance of V of Vec with domain {0,1,2...len(L) - 1} such that v[i] = L[i] for each integer i in the domain"
   ]
  },
  {
   "cell_type": "code",
   "execution_count": null,
   "metadata": {
    "colab": {},
    "colab_type": "code",
    "id": "Icy-unU8piNJ"
   },
   "outputs": [],
   "source": [
    "def list2vec(L: list)-> Vec:\n",
    "  return (Vec(set(rangelen((L)))), {k:x for k,x in enumerate(L)})"
   ]
  },
  {
   "cell_type": "markdown",
   "metadata": {
    "colab_type": "text",
    "id": "lLcuQGU6q2U_"
   },
   "source": [
    "assertions"
   ]
  },
  {
   "cell_type": "code",
   "execution_count": null,
   "metadata": {
    "colab": {},
    "colab_type": "code",
    "id": "U_HNqIM2pZHZ"
   },
   "outputs": [],
   "source": [
    "v = Vec({'a','b','c', 'd'},{'a':2,'c':1,'d':3})\n",
    "assert v['d'] == 3\n",
    "assert v['b'] == 0"
   ]
  },
  {
   "cell_type": "code",
   "execution_count": null,
   "metadata": {
    "colab": {},
    "colab_type": "code",
    "id": "lxVpRSJYpwep"
   },
   "outputs": [],
   "source": [
    "v = Vec({'a', 'b', 'c'}, {'b':0})\n",
    "v['b'] = 5\n",
    "assert v['b'] == 5\n",
    "v['a'] = 1\n",
    "assert v['a'] == 1\n",
    "v['a'] = 0\n",
    "assert v['a'] == 0"
   ]
  },
  {
   "cell_type": "code",
   "execution_count": null,
   "metadata": {
    "colab": {},
    "colab_type": "code",
    "id": "FVVBgEXlqMw8"
   },
   "outputs": [],
   "source": [
    "assert Vec({'a', 'b', 'c'}, {'a':0}) == Vec({'a', 'b', 'c'}, {'b':0})\n",
    "assert Vec({'a', 'b', 'c'}, {'a': 0}) == Vec({'a', 'b', 'c'}, {})\n",
    "assert Vec({'a', 'b', 'c'}, {}) == Vec({'a', 'b', 'c'}, {'a': 0})"
   ]
  },
  {
   "cell_type": "code",
   "execution_count": null,
   "metadata": {
    "colab": {},
    "colab_type": "code",
    "id": "TdurmUi8r6c4"
   },
   "outputs": [],
   "source": [
    "a = Vec({'a','e','i','o','u'}, {'a':0,'e':1,'i':2})\n",
    "b = Vec({'a','e','i','o','u'}, {'o':4,'u':7})\n",
    "c = Vec({'a','e','i','o','u'}, {'a':0,'e':1,'i':2,'o':4,'u':7})\n",
    "assert a + b == c\n",
    "\n",
    "a == Vec({'a','e','i','o','u'}, {'a':0,'e':1,'i':2})\n",
    "b == Vec({'a','e','i','o','u'}, {'o':4,'u':7})\n",
    "d = Vec({'x','y','z'}, {'x':2,'y':1})\n",
    "e = Vec({'x','y','z'}, {'z':4,'y':-1})\n",
    "f = Vec({'x','y','z'}, {'x':2,'y':0,'z':4})\n",
    "assert d + e == f\n",
    "  \n",
    "d == Vec({'x','y','z'}, {'x':2,'y':1})\n",
    "e == Vec({'x','y','z'}, {'z':4,'y':-1})\n",
    "assert b + Vec({'a','e','i','o','u'}, {}) == b\n"
   ]
  },
  {
   "cell_type": "code",
   "execution_count": null,
   "metadata": {
    "colab": {},
    "colab_type": "code",
    "id": "G8BT3qKWb1Ya"
   },
   "outputs": [],
   "source": [
    "u1 = Vec({'a','b'}, {'a':1, 'b':2})\n",
    "u2 = Vec({'a','b'}, {'b':2, 'a':1})\n",
    "assert u1*u2 == 5\n",
    "\n",
    "assert u1 == Vec({'a','b'}, {'a':1, 'b':2})\n",
    "assert u2 == Vec({'a','b'}, {'b':2, 'a':1})\n",
    "\n",
    "v1 = Vec({'p','q','r','s'}, {'p':2,'s':3,'q':-1,'r':0})\n",
    "v2 = Vec({'p','q','r','s'}, {'p':-2,'r':5})\n",
    "assert v1*v2 == -4\n",
    "    \n",
    "w1 = Vec({'a','b','c'}, {'a':2,'b':3,'c':4})\n",
    "w2 = Vec({'a','b','c'}, {'a':12,'b':8,'c':6})\n",
    "assert  w1*w2 == 72\n",
    "\n",
    "\"\"\"\n",
    "The pairwise products should not be collected in a set before summing\n",
    "    because a set eliminates duplicates\n",
    "\"\"\"\n",
    "v1 = Vec({1, 2}, {1 : 3, 2 : 6})\n",
    "v2 = Vec({1, 2}, {1 : 2, 2 : 1})\n",
    "assert v1 * v2 == 12"
   ]
  },
  {
   "cell_type": "code",
   "execution_count": null,
   "metadata": {
    "colab": {},
    "colab_type": "code",
    "id": "rFa8IUudtnfv"
   },
   "outputs": [],
   "source": [
    "zero = Vec({'x','y','z','w'}, {})\n",
    "u = Vec({'x','y','z','w'},{'x':1,'y':2,'z':3,'w':4})\n",
    "assert 0*u == zero\n",
    "\n",
    "assert 1*u == u\n",
    "assert 0.5*u == Vec({'x','y','z','w'},{'x':0.5,'y':1,'z':1.5,'w':2})\n",
    "assert u == Vec({'x','y','z','w'},{'x':1,'y':2,'z':3,'w':4})\n"
   ]
  },
  {
   "cell_type": "code",
   "execution_count": null,
   "metadata": {
    "colab": {},
    "colab_type": "code",
    "id": "snCZ_-EHuKRF"
   },
   "outputs": [],
   "source": [
    "u = Vec({1,3,5,7},{1:1,3:2,5:3,7:4})\n",
    "assert -u == Vec({1, 3, 5, 7},{1: -1, 3: -2, 5: -3, 7: -4})\n",
    "assert u == Vec({1,3,5,7},{1:1,3:2,5:3,7:4})\n",
    "assert -Vec({'a','b','c'}, {'a':1}) == Vec({'a','b','c'}, {'a':-1})"
   ]
  },
  {
   "cell_type": "markdown",
   "metadata": {
    "colab_type": "text",
    "id": "70QoOTCF5dhJ"
   },
   "source": [
    "# dot product"
   ]
  },
  {
   "cell_type": "markdown",
   "metadata": {
    "colab_type": "text",
    "id": "VOlcDGnX5zKd"
   },
   "source": [
    "procedure list.dot(u, v)  with spec\n",
    "input: equal length lists u and v of field elements\n",
    "output: the dot product of u and v interpreted as vectors"
   ]
  },
  {
   "cell_type": "code",
   "execution_count": null,
   "metadata": {
    "colab": {},
    "colab_type": "code",
    "id": "HLxqYI9m5iny"
   },
   "outputs": [],
   "source": [
    "def list_dot(u, v): return sum(u[i] * v[i] for i in range(len(u)))"
   ]
  },
  {
   "cell_type": "markdown",
   "metadata": {
    "colab_type": "text",
    "id": "j8sBxwSvNTER"
   },
   "source": [
    "# solving triangular equations"
   ]
  },
  {
   "cell_type": "code",
   "execution_count": null,
   "metadata": {
    "colab": {},
    "colab_type": "code",
    "id": "jZz14lTyNaIv"
   },
   "outputs": [],
   "source": [
    "def triangular_solve(rowlist , b):\n",
    "  x = zero_vec(rowlist[0].D)\n",
    "  for i in reversed(range(len(rowlist))):\n",
    "    x[i] = (b[i - rowslist[i] * b])/ rowlist[i][i]\n",
    "  return x"
   ]
  }
 ],
 "metadata": {
  "colab": {
   "collapsed_sections": [
    "n5VWEoH_r0fd",
    "tOMDJsNar9Km"
   ],
   "name": "vectors.ipynb",
   "provenance": []
  },
  "kernelspec": {
   "display_name": "Python 3",
   "language": "python",
   "name": "python3"
  },
  "language_info": {
   "codemirror_mode": {
    "name": "ipython",
    "version": 3
   },
   "file_extension": ".py",
   "mimetype": "text/x-python",
   "name": "python",
   "nbconvert_exporter": "python",
   "pygments_lexer": "ipython3",
   "version": "3.8.3"
  }
 },
 "nbformat": 4,
 "nbformat_minor": 1
}
